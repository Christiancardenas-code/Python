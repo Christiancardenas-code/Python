{
  "cells": [
    {
      "cell_type": "markdown",
      "metadata": {
        "id": "view-in-github",
        "colab_type": "text"
      },
      "source": [
        "<a href=\"https://colab.research.google.com/github/Christiancardenas-code/Python/blob/main/PY_CCQ_A01.ipynb\" target=\"_parent\"><img src=\"https://colab.research.google.com/assets/colab-badge.svg\" alt=\"Open In Colab\"/></a>"
      ]
    },
    {
      "cell_type": "markdown",
      "source": [
        "1.- Programa en Python que sirva para mostrar un mensaje que diga: “HOLA MUNDO” en un solo renglón, usando 2 print."
      ],
      "metadata": {
        "id": "DMtf6K9e759I"
      }
    },
    {
      "cell_type": "code",
      "source": [
        "print(\"Hola\", end=\" \")\n",
        "print(\"mundo\")"
      ],
      "metadata": {
        "colab": {
          "base_uri": "https://localhost:8080/"
        },
        "id": "GKQiUQlCpzTd",
        "outputId": "08fa8248-82f8-4ea6-d8a8-3e2a6709beda"
      },
      "execution_count": null,
      "outputs": [
        {
          "output_type": "stream",
          "name": "stdout",
          "text": [
            "Hola mundo\n"
          ]
        }
      ]
    },
    {
      "cell_type": "markdown",
      "source": [
        "2.- Programa en Python que lea 2 números, realizar la suma y desplegar la suma de los 2 números."
      ],
      "metadata": {
        "id": "MZpRED418al9"
      }
    },
    {
      "cell_type": "code",
      "source": [
        "num1 = int(input(\"Dame el primer numero: \"))\n",
        "num2 = int(input(\"Dame el segundo numero: \"))\n",
        "\n",
        "suma = num1 + num2\n",
        "\n",
        "print(f\"\\nLa suma es: {suma}\")"
      ],
      "metadata": {
        "colab": {
          "base_uri": "https://localhost:8080/"
        },
        "id": "BL-92hv2spw8",
        "outputId": "50295619-3696-4c9e-f294-aac147d4281f"
      },
      "execution_count": null,
      "outputs": [
        {
          "output_type": "stream",
          "name": "stdout",
          "text": [
            "Dame el primer numero: 2\n",
            "Dame el segundo numero: 3\n",
            "\n",
            "La suma es: 5\n"
          ]
        }
      ]
    },
    {
      "cell_type": "markdown",
      "source": [
        "3.- Programa en Python que lea 2 números y realice las 4 operaciones básicas."
      ],
      "metadata": {
        "id": "RomsUyo28sHl"
      }
    },
    {
      "cell_type": "code",
      "source": [
        "num1 = int(input(\"Dame el primer numero: \"))\n",
        "num2 = int(input(\"Dame el segundo numero: \"))\n",
        "\n",
        "suma = num1 + num2\n",
        "resta = num1 - num2\n",
        "multi = num1 * num2\n",
        "divi = num1 / num2\n",
        "\n",
        "print(f\"\\nLa suma es: {suma}\")\n",
        "print(f\"\\nLa resta es: {resta}\")\n",
        "print(f\"\\nLa multiplicacion es: {multi}\")\n",
        "print(f\"\\nLa division es: {divi}\")"
      ],
      "metadata": {
        "colab": {
          "base_uri": "https://localhost:8080/"
        },
        "id": "6xDxuZ1utamz",
        "outputId": "967e6d41-a9bc-42f6-9893-e2cc36a3a933"
      },
      "execution_count": null,
      "outputs": [
        {
          "output_type": "stream",
          "name": "stdout",
          "text": [
            "Dame el primer numero: 8\n",
            "Dame el segundo numero: 5\n",
            "\n",
            "La suma es: 13\n",
            "\n",
            "La resta es: 3\n",
            "\n",
            "La multiplicacion es: 40\n",
            "\n",
            "La division es: 1.6\n"
          ]
        }
      ]
    },
    {
      "cell_type": "markdown",
      "source": [
        "4.- Programa en Python que sirva para calcular el área de un triángulo."
      ],
      "metadata": {
        "id": "uJfoqdXG8zHV"
      }
    },
    {
      "cell_type": "code",
      "source": [
        "base = int(input(\"Dame la base del triangulo: \"))\n",
        "altura = int(input(\"Dame la altura del triangulo: \"))\n",
        "\n",
        "area = (base * altura) / 2\n",
        "\n",
        "print(f\"\\nEl area del triangulo es: {round(area, 2)}\")"
      ],
      "metadata": {
        "colab": {
          "base_uri": "https://localhost:8080/"
        },
        "id": "Cq_xKq6yuThD",
        "outputId": "6fe0d7ea-3093-4df7-9bbf-fdab4cb87f38"
      },
      "execution_count": null,
      "outputs": [
        {
          "output_type": "stream",
          "name": "stdout",
          "text": [
            "Dame la base del triangulo: 16\n",
            "Dame la altura del triangulo: 5\n",
            "\n",
            "El area del triangulo es: 40.0\n"
          ]
        }
      ]
    },
    {
      "cell_type": "markdown",
      "source": [
        "5.- Programa en Python que lea una medida en centímetros y desplegar la misma medida, pero convertida en pies y pulgadas."
      ],
      "metadata": {
        "id": "lTBhumqu86if"
      }
    },
    {
      "cell_type": "code",
      "source": [
        "cm = int(input(\"Dame los centimetros a convertir: \"))\n",
        "\n",
        "ft = cm / 30.48\n",
        "pul = cm / 2.54\n",
        "\n",
        "print(f\"\\n{cm} centimetros son {round(ft, 2)} pies\")\n",
        "print(f\"\\n{cm} centimetros son {round(pul, 2)} pulgadas\")"
      ],
      "metadata": {
        "colab": {
          "base_uri": "https://localhost:8080/"
        },
        "id": "lg6z0Ha_vBuj",
        "outputId": "73496396-f1a8-4928-ced9-ec4da8c0ff37"
      },
      "execution_count": null,
      "outputs": [
        {
          "output_type": "stream",
          "name": "stdout",
          "text": [
            "Dame los centimetros a convertir: 60\n",
            "\n",
            "60 centimetros son 1.97 pies\n",
            "\n",
            "60 centimetros son 23.62 pulgadas\n"
          ]
        }
      ]
    },
    {
      "cell_type": "markdown",
      "source": [
        "6.- Programa en Python que lea una temperatura en grados centígrados y desplegarla en Grados Fahrenheit, y grados kelvin."
      ],
      "metadata": {
        "id": "pdT9U4xd9D_2"
      }
    },
    {
      "cell_type": "code",
      "source": [
        "centi = int(input(\"Dame los grados centigrados a convertir: \"))\n",
        "\n",
        "faren = centi * (9 / 5) + 32\n",
        "kelvin = centi + 273.15\n",
        "\n",
        "print(f\"\\n{centi}°C son {round(faren, 2)}°F\")\n",
        "print(f\"\\n{centi}°C son {round(kelvin, 2)}°K\")"
      ],
      "metadata": {
        "colab": {
          "base_uri": "https://localhost:8080/"
        },
        "id": "sS9Pq1zKwDQk",
        "outputId": "a83fd6bf-1d05-4286-edda-563b1846c424"
      },
      "execution_count": null,
      "outputs": [
        {
          "output_type": "stream",
          "name": "stdout",
          "text": [
            "Dame los grados centigrados a convertir: 21\n",
            "\n",
            "21°C son 69.8°F\n",
            "\n",
            "21°C son 294.15°K\n"
          ]
        }
      ]
    },
    {
      "cell_type": "markdown",
      "source": [
        "7.- Programa en Python que lea 4 calificaciones de un alumno, desplegar el promedio del alumno."
      ],
      "metadata": {
        "id": "AEUDS9rL9KI-"
      }
    },
    {
      "cell_type": "code",
      "source": [
        "cal1 = int(input(\"Dame la primera calificacion: \"))\n",
        "cal2 = int(input(\"Dame la segunda calificacion: \"))\n",
        "cal3 = int(input(\"Dame la tercera calificacion: \"))\n",
        "cal4 = int(input(\"Dame la cuarta calificacion: \"))\n",
        "\n",
        "prom = (cal1 + cal2 + cal3 + cal4) / 4\n",
        "\n",
        "print(f\"\\nEl promedio es: {round(prom, 1)}\")"
      ],
      "metadata": {
        "colab": {
          "base_uri": "https://localhost:8080/"
        },
        "id": "jQdKxpTVxFmC",
        "outputId": "0c6922d6-0971-4cce-ff98-7dcae330429b"
      },
      "execution_count": null,
      "outputs": [
        {
          "output_type": "stream",
          "name": "stdout",
          "text": [
            "Dame la primera calificacion: 100\n",
            "Dame la segunda calificacion: 69\n",
            "Dame la tercera calificacion: 71\n",
            "Dame la cuarta calificacion: 43\n",
            "\n",
            "El promedio es: 70.8\n"
          ]
        }
      ]
    }
  ],
  "metadata": {
    "colab": {
      "name": "Te damos la bienvenida a Colaboratory",
      "toc_visible": true,
      "provenance": [],
      "include_colab_link": true
    },
    "kernelspec": {
      "display_name": "Python 3",
      "name": "python3"
    }
  },
  "nbformat": 4,
  "nbformat_minor": 0
}