{
  "nbformat": 4,
  "nbformat_minor": 0,
  "metadata": {
    "colab": {
      "provenance": [],
      "include_colab_link": true
    },
    "kernelspec": {
      "name": "python3",
      "display_name": "Python 3"
    },
    "language_info": {
      "name": "python"
    }
  },
  "cells": [
    {
      "cell_type": "markdown",
      "metadata": {
        "id": "view-in-github",
        "colab_type": "text"
      },
      "source": [
        "<a href=\"https://colab.research.google.com/github/Christiancardenas-code/Python/blob/main/PY_CCQ_A08.ipynb\" target=\"_parent\"><img src=\"https://colab.research.google.com/assets/colab-badge.svg\" alt=\"Open In Colab\"/></a>"
      ]
    },
    {
      "cell_type": "code",
      "source": [
        "import random\n",
        "\n",
        "def juego_numrand():\n",
        "    numcom = random.randint(1,10)\n",
        "    op = 1\n",
        "    ganado = 0\n",
        "    perdido = 0\n",
        "\n",
        "    while op != 2:\n",
        "        numcom = random.randint(1,10)\n",
        "        numusuar = int(input(\"\\nQue numero crees que genero la computadora?: \"))\n",
        "\n",
        "        if numusuar == numcom:\n",
        "            print(f\"\\nLe atinaste al numero\")\n",
        "            print(\"------------------------------------------------\")\n",
        "            ganado += 1\n",
        "\n",
        "        else:\n",
        "            print(f\"\\nTe equivocaste, era: {numcom}\")\n",
        "            print(\"------------------------------------------------\")\n",
        "            perdido += 1\n",
        "\n",
        "        if perdido == 3:\n",
        "            print(\"\\nPerdiste tus 3 intentos\")\n",
        "            print(\"------------------------------------------------\")\n",
        "            break\n",
        "\n",
        "        op = int(input(\"Quieres seguir? 1.-Si | 2.-No\\n\"))\n",
        "        print(\"------------------------------------------------\")\n",
        "\n",
        "    print(f\"Ganaste: {ganado} veces\")\n",
        "    print(f\"Perdiste: {perdido} veces\")"
      ],
      "metadata": {
        "id": "QGsi_b3c93b0"
      },
      "execution_count": 38,
      "outputs": []
    },
    {
      "cell_type": "code",
      "source": [
        "def listarand_vA():\n",
        "    lista = []\n",
        "\n",
        "    for i in range(10):\n",
        "        lista.append(0)\n",
        "    i = 1\n",
        "\n",
        "    while True:\n",
        "        pos = random.randint(0,9)\n",
        "\n",
        "        if lista[pos] == 0:\n",
        "            lista[pos] = i\n",
        "            i += 1\n",
        "\n",
        "        else:\n",
        "            continue\n",
        "            \n",
        "        if i<= 10:\n",
        "            continue\n",
        "        break\n",
        "        \n",
        "    return lista"
      ],
      "metadata": {
        "id": "UmfoNUewISsQ"
      },
      "execution_count": 18,
      "outputs": []
    },
    {
      "cell_type": "code",
      "source": [
        "def listarand_vB():\n",
        "    lista = []\n",
        "    lista = random.sample(range(1, 11), 10)\n",
        "    return lista"
      ],
      "metadata": {
        "id": "ZW2aBGjyHgNz"
      },
      "execution_count": 19,
      "outputs": []
    },
    {
      "cell_type": "code",
      "source": [
        "def listarand_vC():\n",
        "    lista = list(range(1,11))\n",
        "    random.shuffle(lista)\n",
        "    return lista"
      ],
      "metadata": {
        "id": "5leLfG_QntYz"
      },
      "execution_count": 20,
      "outputs": []
    },
    {
      "cell_type": "code",
      "source": [
        "def juego_buscarnumero():\n",
        "    lista = []\n",
        "    op = 1\n",
        "    ganado = 0\n",
        "    perdido = 0\n",
        "\n",
        "    while op != 2:\n",
        "        print(\"\\n--------Juego: Busca un numero--------\")\n",
        "        print(\"1.-Lista random llenada con ciclos\")\n",
        "        print(\"2.-Lista random llenada con sample\")\n",
        "        print(\"3.-Lista random llenada con shuffle\")\n",
        "        \n",
        "        print(\"------------------------------------------------\")\n",
        "        op = int(input(\"Selecciona una opcion para generar la lista: \"))\n",
        "\n",
        "        if op == 1:\n",
        "            lista = listarand_vA()\n",
        "\n",
        "        elif op == 2:\n",
        "            lista = listarand_vB()\n",
        "\n",
        "        elif op == 3:\n",
        "            lista = listarand_vC()\n",
        "\n",
        "        posreal = random.randint(0,9)\n",
        "\n",
        "        numadivinar = lista[posreal]\n",
        "\n",
        "        print(\"---------------------------------------------------------------------------------------\")\n",
        "        print(f\"El número que se genero es el {numadivinar}, intenta adivinar su posicion del 0 al 9\")\n",
        "        print(\"---------------------------------------------------------------------------------------\")\n",
        "\n",
        "        pos = int(input(\"En que posicion crees que esta el numero?: \"))\n",
        "\n",
        "        if lista[pos] == numadivinar:\n",
        "            print(\"\\nLe atinaste!\")\n",
        "            print(\"------------------------------------------------\")\n",
        "            print(\"  \",end=\"\")\n",
        "\n",
        "            for i in range(10):\n",
        "                print(f\" {i}\",end=\" \")\n",
        "            print(\"\\n\",lista)\n",
        "            ganado += 1\n",
        "\n",
        "        else:\n",
        "            print(f\"\\nIncorrecto, el numero estaba en la posicion: {posreal}\\n\")\n",
        "            print(\"------------------------------------------------\")\n",
        "            print(\"  \",end=\"\")\n",
        "\n",
        "            for i in range(10):\n",
        "                print(f\" {i}\",end=\" \")\n",
        "            print(\"\\n\",lista)\n",
        "            perdido += 1\n",
        "\n",
        "        if perdido == 3:\n",
        "            print(\"Perdiste 3 veces, te quedaste sin intentos\")\n",
        "            print(\"------------------------------------------------\")\n",
        "            break\n",
        "\n",
        "        op = int(input(\"\\nQuieres seguir? 1.-Si | 2.-No \\n\"))\n",
        "        print(\"------------------------------------------------\")\n",
        "\n",
        "    print(f\"Ganaste: {ganado} veces\")\n",
        "    print(f\"Perdiste: {perdido} veces\")"
      ],
      "metadata": {
        "id": "sGUHJt80uQsb"
      },
      "execution_count": 45,
      "outputs": []
    },
    {
      "cell_type": "code",
      "source": [
        "def menu():\n",
        "    print(\"\\n--------------------MENU--------------------\")\n",
        "    print(\"1. Adivinar numero\")\n",
        "    print(\"2. Buscar numero en lista\")\n",
        "    print(\"0. Salir\")"
      ],
      "metadata": {
        "id": "39dXV7hQ7Kko"
      },
      "execution_count": 27,
      "outputs": []
    },
    {
      "cell_type": "code",
      "source": [
        "while True:\n",
        "    menu()\n",
        "\n",
        "    op = int(input(\"Ingresa la funcion que deseas utilizar: \"))\n",
        "\n",
        "    if op == 1:\n",
        "        juego_numrand()\n",
        "        continue\n",
        "\n",
        "    elif op == 2:\n",
        "        juego_buscarnumero()\n",
        "        continue\n",
        "        \n",
        "    elif op == 0:\n",
        "        break"
      ],
      "metadata": {
        "colab": {
          "base_uri": "https://localhost:8080/"
        },
        "id": "Unj2PU1C6bUp",
        "outputId": "b5197ca8-a8e6-4ac6-abd5-2035aaeca9a2"
      },
      "execution_count": 46,
      "outputs": [
        {
          "name": "stdout",
          "output_type": "stream",
          "text": [
            "\n",
            "--------------------MENU--------------------\n",
            "1. Adivinar numero\n",
            "2. Buscar numero en lista\n",
            "0. Salir\n",
            "Ingresa la funcion que deseas utilizar: 2\n",
            "\n",
            "--------Juego: Busca un numero--------\n",
            "1.-Lista random llenada con ciclos\n",
            "2.-Lista random llenada con sample\n",
            "3.-Lista random llenada con shuffle\n",
            "------------------------------------------------\n",
            "Selecciona una opcion para generar la lista: 3\n",
            "---------------------------------------------------------------------------------------\n",
            "El número que se genero es el 9, intenta adivinar su posicion del 0 al 9\n",
            "---------------------------------------------------------------------------------------\n",
            "En que posicion crees que esta el numero?: 1\n",
            "\n",
            "Incorrecto, el numero estaba en la posicion: 5\n",
            "\n",
            "------------------------------------------------\n",
            "   0  1  2  3  4  5  6  7  8  9 \n",
            " [7, 8, 10, 2, 4, 9, 1, 6, 3, 5]\n",
            "\n",
            "Quieres seguir? 1.-Si | 2.-No \n",
            "2\n",
            "------------------------------------------------\n",
            "Ganaste: 0 veces\n",
            "Perdiste: 1 veces\n",
            "\n",
            "--------------------MENU--------------------\n",
            "1. Adivinar numero\n",
            "2. Buscar numero en lista\n",
            "0. Salir\n",
            "Ingresa la funcion que deseas utilizar: 1\n",
            "\n",
            "Que numero crees que genero la computadora?: 3\n",
            "\n",
            "Te equivocaste, era: 2\n",
            "------------------------------------------------\n",
            "Quieres seguir? 1.-Si | 2.-No\n",
            "2\n",
            "------------------------------------------------\n",
            "Ganaste: 0 veces\n",
            "Perdiste: 1 veces\n",
            "\n",
            "--------------------MENU--------------------\n",
            "1. Adivinar numero\n",
            "2. Buscar numero en lista\n",
            "0. Salir\n",
            "Ingresa la funcion que deseas utilizar: 0\n"
          ]
        }
      ]
    }
  ]
}