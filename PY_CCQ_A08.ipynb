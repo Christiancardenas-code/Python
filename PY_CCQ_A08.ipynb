{
  "cells": [
    {
      "cell_type": "markdown",
      "metadata": {
        "id": "view-in-github",
        "colab_type": "text"
      },
      "source": [
        "<a href=\"https://colab.research.google.com/github/Christiancardenas-code/Python/blob/main/PY_CCQ_A08.ipynb\" target=\"_parent\"><img src=\"https://colab.research.google.com/assets/colab-badge.svg\" alt=\"Open In Colab\"/></a>"
      ]
    },
    {
      "cell_type": "markdown",
      "source": [
        "1.- Programa en python que genere un número entre el 1 y 10 (no visible)  preguntarle al usuario que número cree que generó la computadora, el usuario tendrá 3 oportunidades de adivinar. \n",
        "\n",
        "Decir si adivino o si falló en sus 3 intentos."
      ],
      "metadata": {
        "id": "8uUSnF79c0qe"
      }
    },
    {
      "cell_type": "code",
      "source": [
        "import random\n",
        "\n",
        "def parte_1():\n",
        "\n",
        "  i = 0\n",
        "  win = 0\n",
        "  lose = 0\n",
        "\n",
        "  while i < 3:\n",
        "\n",
        "    num = random.randint(1, 10)\n",
        "\n",
        "    print(f\"----------Intento {i+1} de 3----------\")\n",
        "\n",
        "    try:\n",
        "      valor = int(input(\"Escoge un numero del 1 al 10: \"))\n",
        "\n",
        "      if valor == num:\n",
        "        print(\"----------------------------------------\")\n",
        "        print(f\"\\nCorrecto, el numero es {num}\\n\")\n",
        "        win = win + 1\n",
        "\n",
        "      else:\n",
        "        print(\"----------------------------------------\")\n",
        "        print(f\"\\nIncorrecto, el numero es {num}\\n\")\n",
        "        lose = lose + 1\n",
        "\n",
        "      i = i + 1\n",
        "\n",
        "    except:\n",
        "      print(\"\\nError\")\n",
        "\n",
        "    if i == 3:\n",
        "      print(\"--------------------------------------------------\")\n",
        "\n",
        "      try:\n",
        "        cont = int(input(\"Quieres volver a intentarlo? 0. No | 1. Si\\n\"))\n",
        "        print(\"--------------------------------------------------\\n\")\n",
        "\n",
        "        if cont == 1:\n",
        "\n",
        "          i = 0\n",
        "\n",
        "        elif cont == 0:\n",
        "          break\n",
        "\n",
        "        elif cont != 0 or cont != 1:\n",
        "          print(\"\\nError\")\n",
        "\n",
        "      except:\n",
        "        print(\"\\nError\")\n",
        "\n",
        "  print(\"----------------------------\")\n",
        "  print(f\"Total de adivinadas: {win}\")\n",
        "  print(f\"Total de erroneas: {lose}\")\n",
        "  print(\"----------------------------\")\n",
        "\n",
        "parte_1()"
      ],
      "metadata": {
        "id": "L8yzcJHQQ45j"
      },
      "execution_count": null,
      "outputs": []
    },
    {
      "cell_type": "markdown",
      "source": [
        "2.- El juego Busca Número muestra una lista de 10 numeros, sin mostrar su contenido, \n",
        "\n",
        "Al usuario se le muestra un número que se generó aleatoriamente y el usuario tendrá 3 intentos de adivinar en qué índice del arreglo se encuentra. \n",
        "\n",
        "El usuario recibirá un mensaje que diga GANASTE, PERDISTE, TIENES UN NUEVO INTENTO\n",
        "\n",
        "El usuario podrá jugar cuantas veces lo desee."
      ],
      "metadata": {
        "id": "hmKg62H7c9Dm"
      }
    },
    {
      "cell_type": "code",
      "source": [
        "import random\n",
        "\n",
        "lista = []\n",
        "num = 0\n",
        "i = 0\n",
        "\n",
        "for num in range(10):\n",
        "  lista.append(num)\n",
        "\n",
        "  num = num + 1\n",
        "\n",
        "random.shuffle(lista)\n",
        "\n",
        "azar = random.randrange(10)\n",
        "\n",
        "print(f\"------------------------------Intento {i+1} de 3------------------------------\")\n",
        "print(f\"En que posicion del 0 al 9 crees que este este numero? --> {azar}\")\n",
        "print(\"--------------------------------------------------------------------------\")"
      ],
      "metadata": {
        "id": "8O-W8biUc6cA"
      },
      "execution_count": null,
      "outputs": []
    }
  ],
  "metadata": {
    "colab": {
      "name": "Welcome To Colaboratory",
      "provenance": [],
      "include_colab_link": true
    },
    "kernelspec": {
      "display_name": "Python 3",
      "name": "python3"
    }
  },
  "nbformat": 4,
  "nbformat_minor": 0
}