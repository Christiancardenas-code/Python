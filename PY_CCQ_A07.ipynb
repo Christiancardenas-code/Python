{
  "cells": [
    {
      "cell_type": "markdown",
      "metadata": {
        "id": "view-in-github",
        "colab_type": "text"
      },
      "source": [
        "<a href=\"https://colab.research.google.com/github/Christiancardenas-code/Python/blob/main/PY_CCQ_A07.ipynb\" target=\"_parent\"><img src=\"https://colab.research.google.com/assets/colab-badge.svg\" alt=\"Open In Colab\"/></a>"
      ]
    },
    {
      "cell_type": "markdown",
      "source": [
        "1.- Función que utilice una lista con los nombres de tus mascotas, o artistas favoritos, (minimo 5, maximo 10) imprimir las cadenas y la cantidad de caracteres de cada cadena.  "
      ],
      "metadata": {
        "id": "YDhkfpRDH1s6"
      }
    },
    {
      "cell_type": "code",
      "source": [
        "def imprimir_bandas():\n",
        "\n",
        "  bandas = [\"Oasis\", \"Travis\", \"The Beatles\", \"Coldplay\", \"Led Zeppelin\", \"Supergrass\"]\n",
        "  i = 0\n",
        "\n",
        "  for cadena in bandas:\n",
        "      print(f\"{[i]}{cadena} --> {len(cadena)} Caracteres.\")\n",
        "      i=i+1\n",
        "\n",
        "imprimir_bandas()"
      ],
      "metadata": {
        "id": "tsCFZ55CHyvb",
        "outputId": "b5c8ac5a-2fd4-4027-8b4d-4c72f9cd8fe0",
        "colab": {
          "base_uri": "https://localhost:8080/"
        }
      },
      "execution_count": 5,
      "outputs": [
        {
          "output_type": "stream",
          "name": "stdout",
          "text": [
            "[0]Oasis --> 5 Caracteres.\n",
            "[1]Travis --> 6 Caracteres.\n",
            "[2]The Beatles --> 11 Caracteres.\n",
            "[3]Coldplay --> 8 Caracteres.\n",
            "[4]Led Zeppelin --> 12 Caracteres.\n",
            "[5]Supergrass --> 10 Caracteres.\n"
          ]
        }
      ]
    },
    {
      "cell_type": "markdown",
      "source": [
        "2.- Programa que utilice 2 funciones, \n",
        "\n",
        "Función que genere y regrese una lista con 10 números aleatorios entre el 30 y 50 (no repetidos). \n",
        "Función que reciba una lista , Imprimir la lista (Indice y Valor )"
      ],
      "metadata": {
        "id": "T1ijZ4k3MVwc"
      }
    },
    {
      "cell_type": "code",
      "source": [
        "import random\n",
        "\n",
        "def numeros():\n",
        "\n",
        "  lista = []\n",
        "  ant = 0\n",
        "  aux = 0\n",
        "  i = 1\n",
        "\n",
        "  for i in range(10):\n",
        "\n",
        "    num = random.randint(30, 50)\n",
        "\n",
        "    ant = num\n",
        "    \n",
        "    if aux == num:\n",
        "      break\n",
        "    \n",
        "    else:\n",
        "      lista.append(num)\n",
        "\n",
        "    ant = aux\n",
        "\n",
        "  print(f\"La lista de numeros es: {lista}\")\n",
        "\n",
        "numeros()"
      ],
      "metadata": {
        "id": "WCMMyoEdMNDZ",
        "outputId": "d50ca64b-b452-400e-f24f-cb5b4c947f11",
        "colab": {
          "base_uri": "https://localhost:8080/"
        }
      },
      "execution_count": 24,
      "outputs": [
        {
          "output_type": "stream",
          "name": "stdout",
          "text": [
            "La lista de numeros es: [37, 42, 48, 50, 43, 45, 36, 31, 45, 34]\n"
          ]
        }
      ]
    },
    {
      "cell_type": "markdown",
      "source": [
        "3.- Escribe una función que reciba dos listas de números del mismo tamaño y calcule la suma de los elementos correspondientes de cada lista. (regresar una nueva lista) . Luego, muestra una lista con los resultados de cada suma. Nota: si las listas no son del mismo tamaño mandar msge y utilizar el tamaño de la lista mas pequeña)"
      ],
      "metadata": {
        "id": "eqH8rX7jQDbR"
      }
    },
    {
      "cell_type": "code",
      "source": [],
      "metadata": {
        "id": "cWw2WIDRP9Sc"
      },
      "execution_count": null,
      "outputs": []
    }
  ],
  "metadata": {
    "colab": {
      "name": "Te damos la bienvenida a Colaboratory",
      "provenance": [],
      "include_colab_link": true
    },
    "kernelspec": {
      "display_name": "Python 3",
      "name": "python3"
    }
  },
  "nbformat": 4,
  "nbformat_minor": 0
}