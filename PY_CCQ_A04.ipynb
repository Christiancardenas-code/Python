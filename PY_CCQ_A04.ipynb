{
  "cells": [
    {
      "cell_type": "markdown",
      "metadata": {
        "id": "view-in-github",
        "colab_type": "text"
      },
      "source": [
        "<a href=\"https://colab.research.google.com/github/Christiancardenas-code/Python/blob/main/PY_CCQ_A04.ipynb\" target=\"_parent\"><img src=\"https://colab.research.google.com/assets/colab-badge.svg\" alt=\"Open In Colab\"/></a>"
      ]
    },
    {
      "cell_type": "markdown",
      "source": [
        "1.- Programa en python   que lea 3 calificaciones calcule el promedio del alumno y desplegar: \n",
        "\n",
        "Si prom < 30 Repetir \n",
        "Si prom >=30 y prom <60 extraordinario \n",
        "Si prom >=60 y prom <70 suficiente \n",
        "Si prom >=70 y prom <80 Regular \n",
        "Si prom >=80 y prom <90 bien \n",
        "Si prom >=90 y prom <98 muy bien \n",
        "Si prom >=98 y prom <=100 excelente \n",
        "Si prom >100 Error en promedio \n",
        "\n",
        "Realizar el algoritmo optimizado"
      ],
      "metadata": {
        "id": "VtMH7ZS3CqIO"
      }
    },
    {
      "cell_type": "code",
      "source": [
        "try:\n",
        "  cal1 = int(input(\"Dame la primera calificacion: \"))\n",
        "  cal2 = int(input(\"Dame la segunda calificacion: \"))\n",
        "  cal3 = int(input(\"Dame la tercera calificacion: \"))\n",
        "\n",
        "  prom = (cal1 + cal2 + cal3) / 3\n",
        "\n",
        "  if prom < 80:\n",
        "\n",
        "    if prom < 60:\n",
        "\n",
        "      if prom < 30:\n",
        "        print(\"\\nDebe repetir\\n\")\n",
        "\n",
        "      else:\n",
        "        print(\"\\nExtraordinario\\n\")\n",
        "\n",
        "    elif prom < 70:\n",
        "      print(\"\\nSuficiente\\n\")\n",
        "\n",
        "    else:\n",
        "      print(\"\\nRegular\\n\")\n",
        "\n",
        "  elif prom < 98:\n",
        "\n",
        "    if prom < 90:\n",
        "      print(\"\\nBien\\n\")\n",
        "\n",
        "    else:\n",
        "      print(\"\\nMuy bien\\n\")\n",
        "\n",
        "  elif prom <= 100:\n",
        "    print(\"\\nExcelente\\n\")\n",
        "\n",
        "  print(f\"Su promedio es: {round(prom, 2)}\")\n",
        "\n",
        "except ValueError:\n",
        "  print(\"\\nError en el promedio\\n\")"
      ],
      "metadata": {
        "id": "yzpXSHLvB0B1",
        "outputId": "c6e1093b-0e59-44c8-c70c-d54e22195f67",
        "colab": {
          "base_uri": "https://localhost:8080/"
        }
      },
      "execution_count": null,
      "outputs": [
        {
          "output_type": "stream",
          "name": "stdout",
          "text": [
            "Dame la primera calificacion: pedro nuñez yepiz\n",
            "\n",
            "Error en el promedio\n",
            "\n"
          ]
        }
      ]
    },
    {
      "cell_type": "markdown",
      "source": [
        "2.- Programa en Python que sirva para calcular el salario semanal de un trabajador donde se obtiene como dato de entrada las horas semanales trabajadas, el salario por hora. \n",
        "\n",
        "El programa deberá calcular el salario normal, salario extra y salario total, considerando lo siguiente: \n",
        "\n",
        "Jornada Normal de 40 horas. \n",
        "El salario normal se considera las horas trabajadas menores o igual a la jornada normal\n",
        "Salario extra se considera las horas trabajadas mayores a la jornada normal y se pagan dobles las primeras 9 y triples a partir de la décima hora extra \n",
        "\n",
        "Nota: Desplegar todos los datos (Salario x hora, Horas Trabajadas, Salario normal, Salario extra y Salario Total)"
      ],
      "metadata": {
        "id": "UIXADFtyC0HA"
      }
    },
    {
      "cell_type": "code",
      "source": [
        "try:\n",
        "  horas = int(input(\"Horas trabajadas: \"))\n",
        "  sxh = int(input(\"\\nSalario por hora: \"))\n",
        "  JN = 40\n",
        "\n",
        "  if horas <= JN:\n",
        "    sn = horas * sxh\n",
        "    se = 0\n",
        "\n",
        "  else:\n",
        "    sn = JN * sxh\n",
        "\n",
        "    if horas <= JN + 9:\n",
        "      se = (horas - JN) * sxh * 2\n",
        "\n",
        "    else:\n",
        "      se = (9 * sxh + 2) + ((horas - (JN + 9)) * sxh * 3)\n",
        "\n",
        "  st = sn + se\n",
        "\n",
        "  print(\"\\n-------------------------------\")\n",
        "  print(f\"Horas trabajadas: |{horas}\\n\")\n",
        "  print(f\"Salario por hora: |${sxh}\")\n",
        "  print(f\"Salaro normal:    |${sn}\")\n",
        "  print(f\"Salario extra:    |${se}\")\n",
        "  print(\"-------------------------------\")\n",
        "\n",
        "except ValueError:\n",
        "  print(\"\\nIntroduce un valor correcto\")"
      ],
      "metadata": {
        "id": "JOBeV_Z6CzDD",
        "outputId": "2535dcdd-3ad4-437e-e699-d41ff9326971",
        "colab": {
          "base_uri": "https://localhost:8080/"
        }
      },
      "execution_count": null,
      "outputs": [
        {
          "output_type": "stream",
          "name": "stdout",
          "text": [
            "Horas trabajadas: xd\n",
            "\n",
            "Introduce un valor correcto\n"
          ]
        }
      ]
    },
    {
      "cell_type": "markdown",
      "source": [
        "3.- Programa en Python que sirva para calcular el Total a pagar por consumo de agua, donde el dato de entrada son los M3 de agua consumidos, Tomar en cuenta que se cobra escalonada de la Siguiente manera: \n",
        "\n",
        "Rango1: 0 al 4 M3 50 x facturación sin importar cuánto consumió en este rango \n",
        "Rango2: 5 a 15 M3 8.00 x M3 \n",
        "Rango3: 16 a 50 M3 10.00 x M3 \n",
        "Rango4: 51 M3 en adelante 11.00 x M3 \n",
        "\n",
        "Nota: Desplegar SubTotal, Iva(16%), y Total a pagar."
      ],
      "metadata": {
        "id": "JFvvZWmLDMf4"
      }
    },
    {
      "cell_type": "code",
      "source": [
        "try:  \n",
        "  local = 3\n",
        "\n",
        "  print(\"1. Llamada local\")\n",
        "  print(\"2. Llamada nacional\")\n",
        "  print(\"3. Llamada internacional\\n\")\n",
        "\n",
        "  tipo = int(input(\"Que tipo de llamada? \"))\n",
        "  min = int(input(\"\\nCuantos minutos? \"))\n",
        "\n",
        "except ValueError:\n",
        "  print(\"---------------------------------------\")\n",
        "  print(\"La opcion no existe\")\n",
        "  print(\"---------------------------------------\")\n",
        "\n",
        "else:\n",
        "  if tipo == 1:\n",
        "    iva = local * 0.16\n",
        "    total = local + iva\n",
        "\n",
        "    print(\"---------------------------------------\")\n",
        "    print(f\"Subtotal: |${local}\")\n",
        "    print(f\"Iva:      |${round(iva, 2)}\")\n",
        "    print(f\"Tiempo:   |{min}\")\n",
        "    print(f\"Total:    |${round(total, 2)}\")\n",
        "    print(\"---------------------------------------\")\n",
        "\n",
        "  elif tipo == 2:\n",
        "    if min <= 3:\n",
        "      iva = 7 * 0.16\n",
        "      total = 7 + iva\n",
        "\n",
        "      print(\"---------------------------------------\")\n",
        "      print(\"Subtotal: |$7\")\n",
        "      print(f\"Iva:      |${round(iva, 2)}\")\n",
        "      print(f\"Tiempo:   |{min}\")\n",
        "      print(f\"Total:    |${round(total, 2)}\")\n",
        "      print(\"---------------------------------------\")\n",
        "    \n",
        "    else:\n",
        "      nacional = (7 + (2 * min))\n",
        "      iva = nacional * 0.16\n",
        "      total = nacional + iva\n",
        "\n",
        "      print(\"---------------------------------------\")\n",
        "      print(f\"Subtotal: |${nacional}\")\n",
        "      print(f\"Iva:      |${round(iva, 2)}\")\n",
        "      print(f\"Tiempo:   |{min}\")\n",
        "      print(f\"Total:    |${round(total, 2)}\")\n",
        "      print(\"---------------------------------------\")\n",
        "\n",
        "  elif tipo == 3:\n",
        "    if min <= 2:\n",
        "      iva = 9 * 0.16\n",
        "      total = 9 + iva\n",
        "\n",
        "      print(\"---------------------------------------\")\n",
        "      print(\"Subtotal: |$9 \")\n",
        "      print(f\"Iva:      |${round(iva, 2)}\")\n",
        "      print(f\"Tiempo:   |{min}\")\n",
        "      print(f\"Total:    |${round(total, 2)}\")\n",
        "      print(\"---------------------------------------\")\n",
        "\n",
        "    else:\n",
        "      inter = (9 + (4 * min ))\n",
        "      iva = inter * 0.16\n",
        "      total = inter + iva\n",
        "\n",
        "      print(\"---------------------------------------\")\n",
        "      print(f\"Subtotal: |${inter}\")\n",
        "      print(f\"Iva:      |${round(iva, 2)}\")\n",
        "      print(f\"Tiempo:   |{min}\")\n",
        "      print(f\"Total:    |${round(total, 2)}\")\n",
        "      print(\"---------------------------------------\")\n",
        "\n",
        "  elif tipo >= 4 or tipo == 0:\n",
        "    print(\"---------------------------------------\")\n",
        "    print(\"La opcion no existe\")\n",
        "    print(\"---------------------------------------\")\n"
      ],
      "metadata": {
        "id": "7VwuLy2SDLqd",
        "outputId": "ae63b7cb-37e1-4d3b-cd80-fa0cc90c4615",
        "colab": {
          "base_uri": "https://localhost:8080/"
        }
      },
      "execution_count": null,
      "outputs": [
        {
          "output_type": "stream",
          "name": "stdout",
          "text": [
            "1. Llamada local\n",
            "2. Llamada nacional\n",
            "3. Llamada internacional\n",
            "\n",
            "Que tipo de llamada? b\n",
            "---------------------------------------\n",
            "La opcion no existe\n",
            "---------------------------------------\n"
          ]
        }
      ]
    },
    {
      "cell_type": "markdown",
      "source": [
        "4- En la materia de Metodología de la programación se aplican 5 exámenes, calcular el promedio final de la materia donde la calificación menor de los exámenes se anula y el promedio se calcula en base a 4 exámenes.\n",
        "\n",
        "Desplegar el promedio final. y cual es la mas baja que se elimino."
      ],
      "metadata": {
        "id": "D6a7oih5FO8-"
      }
    },
    {
      "cell_type": "code",
      "source": [
        "try:  \n",
        "  cal1 = int(input(\"Dame la primera calificacion: \"))\n",
        "  cal2 = int(input(\"Dame la segunda calificacion: \"))\n",
        "  cal3 = int(input(\"Dame la tercera calificacion: \"))\n",
        "  cal4 = int(input(\"Dame la cuarta calificacion: \"))\n",
        "  cal5 = int(input(\"Dame la quinta calificacion: \"))\n",
        "\n",
        "  calM = cal1\n",
        "\n",
        "  if cal2 < calM:\n",
        "    calM = cal2\n",
        "\n",
        "  if cal3 < calM:\n",
        "    calM = cal3\n",
        "\n",
        "  if cal4 < calM:\n",
        "    calM = cal4\n",
        "\n",
        "  if cal5 < calM:\n",
        "    calM = cal5\n",
        "\n",
        "  prom = (cal1 + cal2 + cal3 + cal4 + cal5 - calM) / 4\n",
        "\n",
        "  print(\"--------------------\")\n",
        "  print(f\"El promedio es: {round(prom, 2)}\")\n",
        "\n",
        "except ValueError:\n",
        "  print(\"\\nIntroduce un valor correcto\")"
      ],
      "metadata": {
        "id": "6wL7EnhbFOEg",
        "outputId": "c46afecb-56c3-45cf-fda2-1b49850ab0af",
        "colab": {
          "base_uri": "https://localhost:8080/"
        }
      },
      "execution_count": null,
      "outputs": [
        {
          "output_type": "stream",
          "name": "stdout",
          "text": [
            "Dame la primera calificacion: a\n",
            "\n",
            "Introduce un valor correcto\n"
          ]
        }
      ]
    },
    {
      "cell_type": "markdown",
      "source": [
        "5.- Programa en Python que sirva para el juego del CHINCHAMPU (Piedra, Papel, Tijera) para 1 jugador y la computadora"
      ],
      "metadata": {
        "id": "wG4F6Uf8F9Eh"
      }
    },
    {
      "cell_type": "code",
      "source": [
        "try:  \n",
        "  import random\n",
        "\n",
        "  print(\"-Escoge una opcion-\\n\")\n",
        "  print(\"1. Piedra\")\n",
        "  print(\"2. Papel\")\n",
        "  print(\"3. Tijeras\")\n",
        "\n",
        "  j1 = int(input(\"Escoge una opcion: \"))\n",
        "  cpu = random.randint(1, 3)\n",
        "\n",
        "  if j1 == cpu:\n",
        "    print(\"\\nEmpate\\n\")\n",
        "\n",
        "  elif j1 == 1:\n",
        "    if cpu == 2:\n",
        "      print(f\"\\nElegiste {j1} y la computadora {cpu}, perdiste\\n\")\n",
        "      \n",
        "    else:\n",
        "      print(f\"\\nElegiste {j1} y la computadora {cpu}, ganaste\\n\")\n",
        "\n",
        "  elif j1 == 2:\n",
        "    if cpu == 1:\n",
        "      print(f\"\\nElegiste {j1} y la computadora {cpu}, ganaste\\n\")\n",
        "    \n",
        "    else:\n",
        "      print(f\"\\nElegiste {j1} y la computadora {cpu}, perdiste\\n\")\n",
        "\n",
        "  elif j1 == 3:\n",
        "    if cpu == 2:\n",
        "      print(f\"\\nElegiste {j1} y la computadora {cpu}, ganaste\\n\")\n",
        "    \n",
        "    else:\n",
        "      print(f\"\\nElegiste {j1} y la computadora {cpu}, perdiste\\n\")\n",
        "\n",
        "  elif j1 >= 4 or j1 == 0:\n",
        "    print(\"\\nEscoge una opcion correcta\")\n",
        "\n",
        "except:\n",
        "  print(\"\\nEscoge una opcion correcta\")"
      ],
      "metadata": {
        "id": "beJc7JIbF8Xj",
        "outputId": "deaba714-1198-4161-9801-c07b35c5c9d7",
        "colab": {
          "base_uri": "https://localhost:8080/"
        }
      },
      "execution_count": null,
      "outputs": [
        {
          "output_type": "stream",
          "name": "stdout",
          "text": [
            "-Escoge una opcion-\n",
            "\n",
            "1. Piedra\n",
            "2. Papel\n",
            "3. Tijeras\n",
            "Escoge una opcion: h\n",
            "\n",
            "Escoge una opcion correcta\n"
          ]
        }
      ]
    },
    {
      "cell_type": "markdown",
      "source": [
        "6.- Programa en Python que lea 4 números enteros desplegar cuál es el menor, y cuál es mayor"
      ],
      "metadata": {
        "id": "TTLcgXVCGiRT"
      }
    },
    {
      "cell_type": "code",
      "source": [
        "try:  \n",
        "  num1 = int(input(\"Dame el primer numero: \"))\n",
        "  num2 = int(input(\"Dame el segundo numero: \"))\n",
        "  num3 = int(input(\"Dame el tercer numero: \"))\n",
        "  num4 = int(input(\"Dame el cuarto numero: \"))\n",
        "\n",
        "  menor = min(num1, num2, num3, num4)\n",
        "  mayor = max(num1, num2, num3, num4)\n",
        "\n",
        "  print(f\"\\nEl mayor es: {mayor}\")\n",
        "  print(f\"El menor es: {menor}\")\n",
        "\n",
        "except:\n",
        "  print(\"\\nIntroduce un valor correcto\")"
      ],
      "metadata": {
        "id": "FiBE-v-HGhM2",
        "outputId": "d4dcf65d-d131-4b85-960f-cd8ae1617fd4",
        "colab": {
          "base_uri": "https://localhost:8080/"
        }
      },
      "execution_count": 3,
      "outputs": [
        {
          "output_type": "stream",
          "name": "stdout",
          "text": [
            "Dame el primer numero: 1\n",
            "Dame el segundo numero: 2\n",
            "Dame el tercer numero: 3\n",
            "Dame el cuarto numero: 4\n",
            "\n",
            "El mayor es: 4\n",
            "El menor es: 1\n"
          ]
        }
      ]
    },
    {
      "cell_type": "markdown",
      "source": [
        "7.- Programa en Python que sirva para calcular el área de un triangulo, los datos de entrada deben ser forzosamente de tipo real"
      ],
      "metadata": {
        "id": "n2gjqeXcIzcZ"
      }
    },
    {
      "cell_type": "code",
      "source": [
        "try:\n",
        "  base = float(input(\"Dame la base: \"))\n",
        "  alt = float(input(\"Dame la altura: \"))\n",
        "\n",
        "  area = (base * alt) / 2\n",
        "\n",
        "  print(f\"El area es: {round(area, 2)}\")\n",
        "\n",
        "except ValueError:\n",
        "  print(\"\\nIntroduce un valor correcto\")"
      ],
      "metadata": {
        "id": "AFX_uFgaIycK",
        "outputId": "ab5a7376-7949-42eb-81a8-0cb72a7e6801",
        "colab": {
          "base_uri": "https://localhost:8080/"
        }
      },
      "execution_count": null,
      "outputs": [
        {
          "output_type": "stream",
          "name": "stdout",
          "text": [
            "Dame la base: a\n",
            "\n",
            "Introduce un valor correcto\n"
          ]
        }
      ]
    },
    {
      "cell_type": "markdown",
      "source": [
        "8.- Programa en Python que sirva para calcular el área de un circulo"
      ],
      "metadata": {
        "id": "2fMSb1Ju-csa"
      }
    },
    {
      "cell_type": "code",
      "source": [
        "try:\n",
        "  radio = int(input(\"Dame el valor del radio: \"))\n",
        "\n",
        "  area = 3.14 * (radio*radio)\n",
        "\n",
        "  print(f\"\\nEl area es: {area}\")\n",
        "\n",
        "except ValueError:\n",
        "  print(\"\\nIntroduce un valor correcto\")"
      ],
      "metadata": {
        "id": "LlB_IEWf-GWw",
        "outputId": "f4048254-dd39-4d18-a797-bd6511339084",
        "colab": {
          "base_uri": "https://localhost:8080/"
        }
      },
      "execution_count": null,
      "outputs": [
        {
          "output_type": "stream",
          "name": "stdout",
          "text": [
            "Dame el valor del radio: a\n",
            "\n",
            "Introduce un valor correcto\n"
          ]
        }
      ]
    }
  ],
  "metadata": {
    "colab": {
      "name": "Te damos la bienvenida a Colaboratory",
      "provenance": [],
      "include_colab_link": true
    },
    "kernelspec": {
      "display_name": "Python 3",
      "name": "python3"
    }
  },
  "nbformat": 4,
  "nbformat_minor": 0
}