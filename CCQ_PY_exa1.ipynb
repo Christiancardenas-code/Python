{
  "cells": [
    {
      "cell_type": "markdown",
      "metadata": {
        "id": "view-in-github",
        "colab_type": "text"
      },
      "source": [
        "<a href=\"https://colab.research.google.com/github/Christiancardenas-code/Python/blob/main/CCQ_PY_exa1.ipynb\" target=\"_parent\"><img src=\"https://colab.research.google.com/assets/colab-badge.svg\" alt=\"Open In Colab\"/></a>"
      ]
    },
    {
      "cell_type": "code",
      "source": [
        "def factorial():\n",
        "  try:\n",
        "    num = int(input(\"Dame un numero: \"))\n",
        "\n",
        "    fact = 1\n",
        "\n",
        "    for i in range (1, num + 1):\n",
        "      fact *= i\n",
        "\n",
        "    print(f\"\\nEl factorial es: {fact}\")\n",
        "\n",
        "  except:\n",
        "    print(\"Error, vuelve a intentarlo\\n\")\n",
        "\n",
        "factorial()"
      ],
      "metadata": {
        "id": "f_KJ0_FUuZ5m"
      },
      "execution_count": null,
      "outputs": []
    }
  ],
  "metadata": {
    "colab": {
      "name": "Welcome To Colaboratory",
      "toc_visible": true,
      "provenance": [],
      "include_colab_link": true
    },
    "kernelspec": {
      "display_name": "Python 3",
      "name": "python3"
    }
  },
  "nbformat": 4,
  "nbformat_minor": 0
}