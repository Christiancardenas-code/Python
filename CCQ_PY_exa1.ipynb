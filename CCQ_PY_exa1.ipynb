{
  "cells": [
    {
      "cell_type": "markdown",
      "metadata": {
        "id": "view-in-github",
        "colab_type": "text"
      },
      "source": [
        "<a href=\"https://colab.research.google.com/github/Christiancardenas-code/Python/blob/main/CCQ_PY_exa1.ipynb\" target=\"_parent\"><img src=\"https://colab.research.google.com/assets/colab-badge.svg\" alt=\"Open In Colab\"/></a>"
      ]
    },
    {
      "cell_type": "code",
      "source": [
        "def areatri():\n",
        "  try:\n",
        "    base = int(input(\"Dame la base: \"))\n",
        "\n",
        "    alt = int(input(\"\\nDame la altura: \"))\n",
        "\n",
        "    area = (base * alt) / 2\n",
        "\n",
        "    print(f\"\\nEl area del triangulo es: {area}\")\n",
        "\n",
        "  except:\n",
        "    print(\"\\nError\")\n",
        "\n",
        "areatri()"
      ],
      "metadata": {
        "id": "84wNmtHZyiJm"
      },
      "execution_count": null,
      "outputs": []
    }
  ],
  "metadata": {
    "colab": {
      "name": "Welcome To Colaboratory",
      "toc_visible": true,
      "provenance": [],
      "include_colab_link": true
    },
    "kernelspec": {
      "display_name": "Python 3",
      "name": "python3"
    }
  },
  "nbformat": 4,
  "nbformat_minor": 0
}