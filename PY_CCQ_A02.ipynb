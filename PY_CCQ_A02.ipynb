{
  "cells": [
    {
      "cell_type": "markdown",
      "metadata": {
        "id": "view-in-github",
        "colab_type": "text"
      },
      "source": [
        "<a href=\"https://colab.research.google.com/github/Christiancardenas-code/Python/blob/main/PY_CCQ_A02.ipynb\" target=\"_parent\"><img src=\"https://colab.research.google.com/assets/colab-badge.svg\" alt=\"Open In Colab\"/></a>"
      ]
    },
    {
      "cell_type": "markdown",
      "source": [
        "1.- Programa en Python que lea 2 números enteros, usar una condición y analizar los dos números, y desplegar cual de los números es el mayor."
      ],
      "metadata": {
        "id": "btZry81claeY"
      }
    },
    {
      "cell_type": "code",
      "source": [
        "num1 = int(input(\"Dame el primer numero: \"))\n",
        "num2 = int(input(\"Dame el segundo numero: \"))\n",
        "\n",
        "if num1 > num2:\n",
        "  print(f\"\\nEl mayor es el primer numero: {num1}\")\n",
        "\n",
        "if num1 < num2:\n",
        "  print(f\"\\nEl mayor es el segundo numero: {num2}\")"
      ],
      "metadata": {
        "id": "crhf3c4UlZJ5",
        "outputId": "487b1137-97e0-4af7-c22a-c9c8274bef39",
        "colab": {
          "base_uri": "https://localhost:8080/"
        }
      },
      "execution_count": 20,
      "outputs": [
        {
          "output_type": "stream",
          "name": "stdout",
          "text": [
            "Dame el primer numero: 2\n",
            "Dame el segundo numero: 3\n",
            "\n",
            "El mayor es el segundo numero: 3\n"
          ]
        }
      ]
    },
    {
      "cell_type": "markdown",
      "source": [
        "2.- Programa en Python, algoritmo que lea 4 calificaciones de un alumno, calcular y desplegar el promedio acompañado de la leyenda \"APROBADO\" o \"REPROBADO\""
      ],
      "metadata": {
        "id": "UGLh3QWVlnpP"
      }
    },
    {
      "cell_type": "code",
      "source": [
        "cal1 = int(input(\"Dame la primera calificacion: \"))\n",
        "cal2 = int(input(\"Dame la segunda calificacion: \"))\n",
        "cal3 = int(input(\"Dame la terera calificacion: \"))\n",
        "cal4 = int(input(\"Dame la cuarta calificacion: \"))\n",
        "\n",
        "prom = (cal1 + cal2 + cal3 + cal4) / 4\n",
        "\n",
        "if prom >= 60:\n",
        "  print(f\"\\nAprobado con: {prom}\")\n",
        "\n",
        "if prom < 60:\n",
        "  print(f\"\\nReprobado con: {prom}\")"
      ],
      "metadata": {
        "id": "w4Ldy3sWlnMZ",
        "outputId": "3cf168d3-236c-4bda-a712-eed80bb9c14a",
        "colab": {
          "base_uri": "https://localhost:8080/"
        }
      },
      "execution_count": 50,
      "outputs": [
        {
          "output_type": "stream",
          "name": "stdout",
          "text": [
            "Dame la primera calificacion: 55\n",
            "Dame la segunda calificacion: 45\n",
            "Dame la terera calificacion: 90\n",
            "Dame la cuarta calificacion: 13\n",
            "\n",
            "Reprobado con: 50.75\n"
          ]
        }
      ]
    },
    {
      "cell_type": "markdown",
      "source": [
        "3.- Programa en Python, algoritmo que a través de opciones (1.- HOMBRE 2.- MUJER ) preguntar al usuario cual es su sexo y desplegar la leyenda “HOMBRE ”, “MUJER”"
      ],
      "metadata": {
        "id": "xuqW075_lvoP"
      }
    },
    {
      "cell_type": "code",
      "source": [
        "gen = int(input(\"1.- Hombre \\n2.- Mujer\\n\\n\"))\n",
        "\n",
        "if gen == 1:\n",
        "  print(\"\\nUsted es hombre\")\n",
        "\n",
        "if gen == 2:\n",
        "  print(\"\\nUsted es mujer\")"
      ],
      "metadata": {
        "id": "8NRdKhMLlvPQ",
        "outputId": "5bb45368-5550-42d8-bda2-341720db664b",
        "colab": {
          "base_uri": "https://localhost:8080/"
        }
      },
      "execution_count": 29,
      "outputs": [
        {
          "output_type": "stream",
          "name": "stdout",
          "text": [
            "1.- Hombre \n",
            "2.- Mujer\n",
            "\n",
            "2\n",
            "\n",
            "Usted es mujer\n"
          ]
        }
      ]
    },
    {
      "cell_type": "markdown",
      "source": [
        "4.- Programa en Python que lea un número entero, y desplegar si el número es “PAR” o “IMPAR”"
      ],
      "metadata": {
        "id": "r-GqF35Ll5XY"
      }
    },
    {
      "cell_type": "code",
      "source": [
        "num = int(input(\"Dame un numero: \"))\n",
        "\n",
        "divi = num % 2\n",
        "\n",
        "if divi == 0:\n",
        "  print(\"\\nEl numero es par\")\n",
        "\n",
        "if divi >= 1:\n",
        "  print(\"\\nEl numero es impar\")"
      ],
      "metadata": {
        "id": "uH-3B-qkvSu8",
        "outputId": "52409083-15dc-4ff9-ca7f-432f8b29d021",
        "colab": {
          "base_uri": "https://localhost:8080/"
        }
      },
      "execution_count": 44,
      "outputs": [
        {
          "output_type": "stream",
          "name": "stdout",
          "text": [
            "Dame un numero: 5\n",
            "\n",
            "El numero es impar\n"
          ]
        }
      ]
    },
    {
      "cell_type": "markdown",
      "source": [
        "5.- Programa en Python que lea 2 números enteros, usar una condición y analizar los dos números y desplegar cual de los números es el mayor."
      ],
      "metadata": {
        "id": "CHGF6P8El9If"
      }
    },
    {
      "cell_type": "code",
      "source": [
        "num1 = int(input(\"Dame el primer numero: \"))\n",
        "num2 = int(input(\"Dame el segundo numero: \"))\n",
        "\n",
        "if num1 > num2:\n",
        "  print(f\"\\nEl mayor es el primer numero: {num1}\")\n",
        "\n",
        "else:\n",
        "  print(f\"\\nEl mayor es el segundo numero: {num2}\")"
      ],
      "metadata": {
        "id": "xKoJZFzql8r4",
        "outputId": "8278131b-8441-4eb6-c912-fbea37ad4d43",
        "colab": {
          "base_uri": "https://localhost:8080/"
        }
      },
      "execution_count": 49,
      "outputs": [
        {
          "output_type": "stream",
          "name": "stdout",
          "text": [
            "Dame el primer numero: 3\n",
            "Dame el segundo numero: 2\n",
            "\n",
            "El mayor es el primer numero: 3\n"
          ]
        }
      ]
    },
    {
      "cell_type": "markdown",
      "source": [
        "6.- Programa en Python que lea 4 calificaciones de un alumno, calcular y desplegar el promedio acompañado de la leyenda APROBADO o REPROBADO."
      ],
      "metadata": {
        "id": "vEJAG1PJmBai"
      }
    },
    {
      "cell_type": "code",
      "source": [
        "cal1 = int(input(\"Dame la primera calificacion: \"))\n",
        "cal2 = int(input(\"Dame la segunda calificacion: \"))\n",
        "cal3 = int(input(\"Dame la terera calificacion: \"))\n",
        "cal4 = int(input(\"Dame la cuarta calificacion: \"))\n",
        "\n",
        "prom = (cal1 + cal2 + cal3 + cal4) / 4\n",
        "\n",
        "if prom >= 60:\n",
        "  print(f\"\\nAprobado con: {prom}\")\n",
        "\n",
        "else:\n",
        "  print(f\"\\nReprobado con: {prom}\")"
      ],
      "metadata": {
        "id": "P4ljhd9dmBGh",
        "outputId": "52390641-f6f2-4a29-ae0b-ce4de5700d62",
        "colab": {
          "base_uri": "https://localhost:8080/"
        }
      },
      "execution_count": 48,
      "outputs": [
        {
          "output_type": "stream",
          "name": "stdout",
          "text": [
            "Dame la primera calificacion: 80\n",
            "Dame la segunda calificacion: 99\n",
            "Dame la terera calificacion: 66\n",
            "Dame la cuarta calificacion: 45\n",
            "\n",
            "Aprobado con: 72.5\n"
          ]
        }
      ]
    },
    {
      "cell_type": "markdown",
      "source": [
        "7.- Programa en Python que a través de opciones (1.- HOMBRE 2.- MUJER ) preguntar al usuario cual es su sexo y desplegar la leyenda “HOMBRE ”, “MUJER”"
      ],
      "metadata": {
        "id": "htIN8gpFmFXP"
      }
    },
    {
      "cell_type": "code",
      "source": [
        "gen = int(input(\"1.- Hombre \\n2.- Mujer\\n\\n\"))\n",
        "\n",
        "if gen == 1:\n",
        "  print(\"\\nUsted es hombre\")\n",
        "\n",
        "else:\n",
        "  print(\"\\nUsted es mujer\")"
      ],
      "metadata": {
        "id": "Pzhah-8ZmE0j",
        "outputId": "2b7b0818-49e4-4602-cb53-7c996d1713d7",
        "colab": {
          "base_uri": "https://localhost:8080/"
        }
      },
      "execution_count": 46,
      "outputs": [
        {
          "output_type": "stream",
          "name": "stdout",
          "text": [
            "1.- Hombre \n",
            "2.- Mujer\n",
            "\n",
            "1\n",
            "\n",
            "Usted es hombre\n"
          ]
        }
      ]
    },
    {
      "cell_type": "markdown",
      "source": [
        "8.- Programa en Python que lea un número entero, y desplegar si el número es “PAR” o “IMPAR”"
      ],
      "metadata": {
        "id": "JdRVCikemKF5"
      }
    },
    {
      "cell_type": "code",
      "source": [
        "num = int(input(\"Dame un numero: \"))\n",
        "\n",
        "divi = num % 2\n",
        "\n",
        "if divi == 0:\n",
        "  print(\"\\nEl numero es par\")\n",
        "\n",
        "else:\n",
        "  print(\"\\nEl numero es impar\")"
      ],
      "metadata": {
        "id": "CUS4suAJmJq6",
        "outputId": "2353ed75-8b8e-4fae-8fbc-0597c75ca8c0",
        "colab": {
          "base_uri": "https://localhost:8080/"
        }
      },
      "execution_count": 45,
      "outputs": [
        {
          "output_type": "stream",
          "name": "stdout",
          "text": [
            "Dame un numero: 2\n",
            "\n",
            "El numero es par\n"
          ]
        }
      ]
    }
  ],
  "metadata": {
    "colab": {
      "name": "Te damos la bienvenida a Colaboratory",
      "toc_visible": true,
      "provenance": [],
      "include_colab_link": true
    },
    "kernelspec": {
      "display_name": "Python 3",
      "name": "python3"
    }
  },
  "nbformat": 4,
  "nbformat_minor": 0
}