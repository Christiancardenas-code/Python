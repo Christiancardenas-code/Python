{
  "cells": [
    {
      "cell_type": "markdown",
      "metadata": {
        "id": "view-in-github",
        "colab_type": "text"
      },
      "source": [
        "<a href=\"https://colab.research.google.com/github/Christiancardenas-code/Python/blob/main/PY_CCQ_A02.ipynb\" target=\"_parent\"><img src=\"https://colab.research.google.com/assets/colab-badge.svg\" alt=\"Open In Colab\"/></a>"
      ]
    },
    {
      "cell_type": "markdown",
      "source": [
        "1.- Algoritmo que lea la edad de una persona (en años enteros) y desplegar su edad en meses y días.\n",
        "\n"
      ],
      "metadata": {
        "id": "Hf0z3fK-ExVk"
      }
    },
    {
      "cell_type": "code",
      "source": [
        "edad = int(input(\"Cuantos años tienes? \"))\n",
        "\n",
        "meses = edad * 12\n",
        "dias = edad * 365\n",
        "\n",
        "print(f\"\\nTus {edad} años en meses son: {meses}, y en dias: {dias}\")"
      ],
      "metadata": {
        "id": "wg7vCaq0EvOV",
        "outputId": "84c56949-3955-4e58-f191-e9b711deee2a",
        "colab": {
          "base_uri": "https://localhost:8080/"
        }
      },
      "execution_count": 2,
      "outputs": [
        {
          "output_type": "stream",
          "name": "stdout",
          "text": [
            "Cuantos años tienes? 21\n",
            "\n",
            "Tus 21 años en meses son: 252, y en dias: 7665\n"
          ]
        }
      ]
    },
    {
      "cell_type": "markdown",
      "source": [
        "2.- Algoritmo que lea el precio y la cantidad de un artículo que vas a comprar y calcular: Subtotal, Iva (16%) y el total a pagar."
      ],
      "metadata": {
        "id": "V36hp1IUE-8T"
      }
    },
    {
      "cell_type": "code",
      "source": [
        "articulo = (int(input(\"Cuanto vas a llevar? \")))\n",
        "precio = (int(input(\"Cuanto cuesta? \")))\n",
        "\n",
        "subtotal = articulo * precio\n",
        "iva = precio * 0.16\n",
        "total = subtotal + iva\n",
        "\n",
        "print(f\"\\nTu articulo cuesta ${precio} y llevas {articulo}\")\n",
        "print(\"-------------------------------------------------\")\n",
        "print(f\"Subtotal: |${subtotal}\")\n",
        "print(f\"Iva:      |${iva}\")\n",
        "print(f\"total:    |${total}\")"
      ],
      "metadata": {
        "id": "y94KaFWvE-Bd",
        "outputId": "860262f9-efba-44bc-98e5-68c7400a73be",
        "colab": {
          "base_uri": "https://localhost:8080/"
        }
      },
      "execution_count": 5,
      "outputs": [
        {
          "output_type": "stream",
          "name": "stdout",
          "text": [
            "Cuanto vas a llevar? 5\n",
            "Cuanto cuesta? 32\n",
            "\n",
            "Tu articulo cuesta $32 y llevas 5\n",
            "-------------------------------------------------\n",
            "Subtotal: |$160\n",
            "Iva:      |$5.12\n",
            "total:    |$165.12\n"
          ]
        }
      ]
    },
    {
      "cell_type": "markdown",
      "source": [
        "3.- Algoritmo que sirva para calcular el área de un cuadrado."
      ],
      "metadata": {
        "id": "77K4ByClFFIL"
      }
    },
    {
      "cell_type": "code",
      "source": [
        "area = int(input(\"Dame el valor de un lado: \"))\n",
        "\n",
        "area = area ** 2\n",
        "\n",
        "print(f\"\\nEl area del cuadrado es: {area}\")"
      ],
      "metadata": {
        "id": "lIYoZscnFEve",
        "outputId": "15d9e34a-5405-4e0d-85d4-c52683620e0f",
        "colab": {
          "base_uri": "https://localhost:8080/"
        }
      },
      "execution_count": 6,
      "outputs": [
        {
          "output_type": "stream",
          "name": "stdout",
          "text": [
            "Dame el valor de un lado: 4\n",
            "\n",
            "El area del cuadrado es: 16\n"
          ]
        }
      ]
    },
    {
      "cell_type": "markdown",
      "source": [
        "4.- Algoritmo que sirva para calcular el área de un trapecio."
      ],
      "metadata": {
        "id": "VgTXrWVpFKxT"
      }
    },
    {
      "cell_type": "code",
      "source": [
        "areaMay = int(input(\"Cuanto vale la base mayor? \"))\n",
        "areaMen = int(input(\"Cuanto vale la base menor? \"))\n",
        "alt = int(input(\"Cuanto vale la altura? \"))\n",
        "\n",
        "area = ((areaMay + areaMen) / 2) * alt\n",
        "\n",
        "print(f\"\\nEl area del trapecio es: {area}\")"
      ],
      "metadata": {
        "id": "TCCnFSjDFJik",
        "outputId": "8bceed5d-1854-4e69-aa79-1dba961fdc54",
        "colab": {
          "base_uri": "https://localhost:8080/"
        }
      },
      "execution_count": 8,
      "outputs": [
        {
          "output_type": "stream",
          "name": "stdout",
          "text": [
            "Cuanto vale la base mayor? 13\n",
            "Cuanto vale la base menor? 7\n",
            "Cuanto vale la altura? 6\n",
            "\n",
            "El area del trapecio es: 60.0\n"
          ]
        }
      ]
    },
    {
      "cell_type": "markdown",
      "source": [
        "5.- Algoritmo que sirva para calcular el volumen de un cilindro."
      ],
      "metadata": {
        "id": "3nLke6dqFPG0"
      }
    },
    {
      "cell_type": "code",
      "source": [
        "radio = int(input(\"Cuanto vale el radio? \"))\n",
        "alt = int(input(\"Cuanto vale la altura? \"))\n",
        "\n",
        "vol = (3.14 * (radio * radio)) * alt\n",
        "\n",
        "print(f\"\\nEl volumen del cilindro es: {vol}\")"
      ],
      "metadata": {
        "id": "MnKTq4ntFOot",
        "outputId": "9c6d2136-d261-48c1-9ae7-dbce5e69ed5e",
        "colab": {
          "base_uri": "https://localhost:8080/"
        }
      },
      "execution_count": 10,
      "outputs": [
        {
          "output_type": "stream",
          "name": "stdout",
          "text": [
            "Cuanto vale el radio? 8\n",
            "Cuanto vale la altura? 15\n",
            "\n",
            "El volumen del cilindro es: 3014.4\n"
          ]
        }
      ]
    },
    {
      "cell_type": "markdown",
      "source": [
        "6.- Se tiene un terreno rectangular y se desea saber el costo de sembrar pasto en él considerando que cada metro cuadrado cuesta $35.40. Además se pide determinar qué cantidad de alambre se necesitará para cercarlo sin tomar en cuenta la altura de la cerca. Elaborar un programa que muestre tales totales."
      ],
      "metadata": {
        "id": "_AhYs7UKFUqz"
      }
    },
    {
      "cell_type": "code",
      "source": [
        "base = int(input(\"Cuanto mide la base del terreno? \"))\n",
        "alt = int(input(\"Cual es la altura del terreno? \"))\n",
        "\n",
        "area = base * alt\n",
        "costo = area * 35.4\n",
        "\n",
        "alambre = (base * 2) + (alt * 2)\n",
        "\n",
        "print(f\"\\nSembrar su terreno de {area} metros cuadrados costará: {costo}\")\n",
        "print(f\"\\nLa cantidad de alambre para cercarlo es de: {alambre} metros\")"
      ],
      "metadata": {
        "id": "ph0ush_nFSm8",
        "outputId": "aa016af1-a1a1-4dd9-e957-860459ab0f3c",
        "colab": {
          "base_uri": "https://localhost:8080/"
        }
      },
      "execution_count": 11,
      "outputs": [
        {
          "output_type": "stream",
          "name": "stdout",
          "text": [
            "Cuanto mide la base del terreno? 10\n",
            "Cual es la altura del terreno? 5\n",
            "\n",
            "Sembrar su terreno de 50 metros cuadrados costará: 1770.0\n",
            "\n",
            "La cantidad de alambre para cercarlo es de: 30 metros\n"
          ]
        }
      ]
    },
    {
      "cell_type": "markdown",
      "source": [
        "7.- Escriba un algoritmo que reciba como entrada las longitudes de los dos catetos, a y b de un triángulo rectángulo, y que entregue como salida el largo de la hipotenusa c del triángulo, dado por el teorema de Pitágoras: c2=a2+b2."
      ],
      "metadata": {
        "id": "r31U8BF0Fhvb"
      }
    },
    {
      "cell_type": "code",
      "source": [
        "import math\n",
        "\n",
        "catetoOp = int(input(\"Cuanto vale el cateto opuesto? \"))\n",
        "catetoAd = int(input(\"Cuanto vale el cateto adyacente? \"))\n",
        "\n",
        "hipo = math.sqrt((catetoOp**2) + (catetoAd**2))\n",
        "\n",
        "print(f\"\\nLa hipotenusa vale: {hipo}\")"
      ],
      "metadata": {
        "id": "x7Xl67_CFhWn",
        "outputId": "637b9b5a-28a1-480c-f9cd-aac54ccdcb23",
        "colab": {
          "base_uri": "https://localhost:8080/"
        }
      },
      "execution_count": 14,
      "outputs": [
        {
          "output_type": "stream",
          "name": "stdout",
          "text": [
            "Cuanto vale el cateto opuesto? 3\n",
            "Cuanto vale el cateto adyacente? 4\n",
            "\n",
            "La hipotenusa vale: 5.0\n"
          ]
        }
      ]
    },
    {
      "cell_type": "markdown",
      "source": [
        "8.- Suponer que toda la gente duerme alrededor de 1/3 de tiempo (8 de 24 hrs). Hacer un algoritmo para calcular cuántas horas ha dormido una persona durante toda su vida, considerando que todos los años tienen 365 días."
      ],
      "metadata": {
        "id": "Ztz9YT0OFvCL"
      }
    },
    {
      "cell_type": "code",
      "source": [
        "edad = (int(input(\"Cuantos años tienes? \")))\n",
        "\n",
        "horas = edad * 365 * 0.33\n",
        "\n",
        "print(f\"\\nHaz dormido {round(horas, 2)} horas en tus {edad} años de vida\")"
      ],
      "metadata": {
        "id": "D7xeoDAvFue8",
        "outputId": "14f63c02-7211-4441-f7a5-e17b3caf0ad3",
        "colab": {
          "base_uri": "https://localhost:8080/"
        }
      },
      "execution_count": 16,
      "outputs": [
        {
          "output_type": "stream",
          "name": "stdout",
          "text": [
            "Cuantos años tienes? 21\n",
            "\n",
            "Haz dormido 2529.45 horas en tus 21 años de vida\n"
          ]
        }
      ]
    }
  ],
  "metadata": {
    "colab": {
      "name": "Te damos la bienvenida a Colaboratory",
      "toc_visible": true,
      "provenance": [],
      "include_colab_link": true
    },
    "kernelspec": {
      "display_name": "Python 3",
      "name": "python3"
    }
  },
  "nbformat": 4,
  "nbformat_minor": 0
}