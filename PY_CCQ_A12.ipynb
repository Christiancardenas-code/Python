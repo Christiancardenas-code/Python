{
  "cells": [
    {
      "cell_type": "markdown",
      "metadata": {
        "id": "view-in-github",
        "colab_type": "text"
      },
      "source": [
        "<a href=\"https://colab.research.google.com/github/Christiancardenas-code/Python/blob/main/PY_CCQ_A12.ipynb\" target=\"_parent\"><img src=\"https://colab.research.google.com/assets/colab-badge.svg\" alt=\"Open In Colab\"/></a>"
      ]
    },
    {
      "cell_type": "code",
      "source": [
        "from IPython.display import clear_output\n",
        "from tabulate import tabulate\n",
        "import random\n",
        "import json\n",
        "import pandas as pd\n",
        "import time\n",
        "\n",
        "diccionario = {\"Matricula\" : \"\", \"Edad\" : \"\", \"Nombre\" : \"\",\n",
        "               \"Ap paterno\" : \"\", \"Ap materno\" : \"\", \"Sexo\" : \"\"}\n",
        "\n",
        "datos = []\n",
        "\n",
        "ApP = [\"Cardenas\", \"Meza\", \"Rojas\", \"Navarro\", \"Zavala\", \"Cazares\", \"Gutierrez\", \"Zepeda\",\n",
        "       \"Perez\", \"Sanchez\", \"Torres\", \"Casas\", \"Leal\", \"Patron\", \"Martinez\"]\n",
        "\n",
        "ApM = [\"Quiroz\", \"Tamayo\", \"Rosales\", \"Blanco\", \"Juarez\", \"Encinas\", \"Aldama\", \"Saucedo\", \"Vera\",\n",
        "       \"Arroyo\", \"Marrero\", \"Gallegos\", \"Siqueiros\", \"Guerrero\", \"Garcia\"]\n",
        "\n",
        "sexo = [\"Hombre\", \"Mujer\"]\n",
        "\n",
        "NombresH = [\"Christian\", \"Inti\", \"Pavel\", \"Javier\", \"Roberto\", \"Angel\", \"Daniel\", \"Julio\", \"Erick\",\n",
        "            \"David\", \"Jonathan\", \"Johan\", \"Benjamin\", \"Jesus\", \"Antonio\"]\n",
        "\n",
        "NombresM = [\"Cellinia\", \"Jacqueline\", \"Maria\", \"Margareth\", \"Zofia\", \"Janneth\", \"Thamara\", \"Melissa\", \"Brisa\",\n",
        "            \"Mirsha\", \"Adle\", \"Noe\", \"Justine\", \"Fernanda\", \"Roberta\"]"
      ],
      "metadata": {
        "id": "gJdX-SknS0Dv"
      },
      "execution_count": 60,
      "outputs": []
    },
    {
      "cell_type": "code",
      "source": [
        "def aleatorio():\n",
        "  i = 1\n",
        "\n",
        "  while i <= 10:\n",
        "    genero = random.choice(sexo)\n",
        "\n",
        "    if genero == \"Mujer\":\n",
        "      datos.append({\"Matricula\" : random.randrange(300000, 399999), \"Edad\" : random.randrange(18, 60),\n",
        "                    \"Nombre\": random.choice(NombresM), \"Ap paterno\" : random.choice(ApP), \"Ap materno\" : random.choice(ApM), \"Sexo\" : \"Mujer\"})\n",
        "      \n",
        "    else:\n",
        "      datos.append({\"Matricula\" : random.randrange(300000, 399999), \"Edad\" : random.randrange(18, 60),\n",
        "                    \"Nombre\": random.choice(NombresH), \"Ap paterno\" : random.choice(ApP), \"Ap materno\" : random.choice(ApM), \"Sexo\" : \"Hombre\"})\n",
        "      \n",
        "    i = i + 1\n",
        "\n",
        "  print(\"\\n-Datos generados-\\n\")\n",
        "  \n",
        "  time.sleep(2.5)"
      ],
      "metadata": {
        "id": "80YHHfZBS6qm"
      },
      "execution_count": 61,
      "outputs": []
    },
    {
      "cell_type": "code",
      "source": [
        "def impresion():\n",
        "  print(\"----------------------------------------------------------------------\")\n",
        "  \n",
        "  data = pd.DataFrame(datos)\n",
        "  print(data)\n",
        "\n",
        "  time.sleep(10)"
      ],
      "metadata": {
        "id": "R_z0D477TB2F"
      },
      "execution_count": 62,
      "outputs": []
    },
    {
      "cell_type": "code",
      "source": [
        "def buscar():\n",
        "  band = 0\n",
        "  i = 1\n",
        "\n",
        "  try:\n",
        "    search = int(input(\"Matricula a buscar: \"))\n",
        "\n",
        "  except:\n",
        "    print(\"\\n-Error, vuelve a intentarlo-\\n\")\n",
        "\n",
        "  else:\n",
        "\n",
        "    for i in datos:\n",
        "      if search == i[\"Matricula\"]:\n",
        "        print(\"--------------------Datos encontrados!--------------------\")\n",
        "        print(\"Matricula: \", i[\"Matricula\"])\n",
        "        print(\"Nombre: \", i[\"Nombre\"])\n",
        "        print(\"Ap paterno: \", i[\"Ap paterno\"])\n",
        "        print(\"Ap materno: \", i[\"Ap materno\"])\n",
        "        print(\"Edad: \", i[\"Edad\"])\n",
        "        print(\"Sexo: \", i[\"Sexo\"])\n",
        "\n",
        "        band = 1\n",
        "\n",
        "        time.sleep(10)\n",
        "\n",
        "    if band == 0:\n",
        "      print(\"\\n-No existe...-\\n\")\n",
        "\n",
        "      time.sleep(2.5)"
      ],
      "metadata": {
        "id": "tJrXPl61THMe"
      },
      "execution_count": 63,
      "outputs": []
    },
    {
      "cell_type": "code",
      "source": [
        "def ordenar():\n",
        "  i = 1\n",
        "  datos.sort(key = lambda i: i[\"Matricula\"])\n",
        "\n",
        "  print(\"\\n-Ordenando datos...-\\n\")\n",
        "\n",
        "  time.sleep(2.5)"
      ],
      "metadata": {
        "id": "Xv80lTlgTM2N"
      },
      "execution_count": 64,
      "outputs": []
    },
    {
      "cell_type": "code",
      "source": [
        "def eliminar():\n",
        "  i = 1\n",
        "\n",
        "  try:\n",
        "    delete = int(input(\"Matricula a borrar: \"))\n",
        "\n",
        "  except:\n",
        "    print(\"\\n-Error, vuelve a intentarlo-\\n\")\n",
        "\n",
        "  else:\n",
        "\n",
        "    for i in datos:\n",
        "      if delete == i[\"Matricula\"]:\n",
        "        datos.pop(0)\n",
        "\n",
        "  print(\"\\n-Datos eliminados-\\n\")\n",
        "\n",
        "  time.sleep(2.5)"
      ],
      "metadata": {
        "id": "54sNydPxTQy9"
      },
      "execution_count": 65,
      "outputs": []
    },
    {
      "cell_type": "code",
      "source": [
        "def deshacer():\n",
        "  datos.clear()\n",
        "\n",
        "  print(\"\\n-Se eliminaron todos los datos!-\\n\")\n",
        "\n",
        "  time.sleep(2.5)"
      ],
      "metadata": {
        "id": "d-EXrfMGTUT8"
      },
      "execution_count": 66,
      "outputs": []
    },
    {
      "cell_type": "code",
      "source": [
        "def buscapaterno():\n",
        "  band = 0\n",
        "  i = 1\n",
        "\n",
        "  try:\n",
        "    search = str(input(\"Apellido paterno a buscar: \"))\n",
        "\n",
        "  except:\n",
        "    print(\"\\n-Error, vuelve a intentarlo-\\n\")\n",
        "\n",
        "  else:\n",
        "\n",
        "    for i in datos:\n",
        "      if search == i[\"Ap paterno\"]:\n",
        "        print(\"--------------------Coincidencias encontradas!--------------------\")\n",
        "        print(\"Matricula: \", i[\"Matricula\"])\n",
        "        print(\"Nombre: \", i[\"Nombre\"])\n",
        "        print(\"Ap paterno: \", i[\"Ap paterno\"])\n",
        "        print(\"Ap materno: \", i[\"Ap materno\"])\n",
        "        print(\"Edad: \", i[\"Edad\"])\n",
        "        print(\"Sexo: \", i[\"Sexo\"])\n",
        "\n",
        "        band = 1\n",
        "\n",
        "        time.sleep(8)\n",
        "\n",
        "    if band == 0:\n",
        "      print(\"\\n-No hay coincidencias...-\\n\")\n",
        "\n",
        "      time.sleep(2.5)"
      ],
      "metadata": {
        "id": "f7rQy2kSTn93"
      },
      "execution_count": 73,
      "outputs": []
    },
    {
      "cell_type": "code",
      "source": [
        "def genarchi():\n",
        "  print(\"Proximamente\")"
      ],
      "metadata": {
        "id": "ZqD_RF9sUwSn"
      },
      "execution_count": 68,
      "outputs": []
    },
    {
      "cell_type": "code",
      "source": [
        "def cargar():\n",
        "  print(\"Proximamente\")"
      ],
      "metadata": {
        "id": "C1u2ZxIyVINO"
      },
      "execution_count": 69,
      "outputs": []
    },
    {
      "cell_type": "code",
      "source": [
        "def imparhi():\n",
        "  print(\"Proximamente\")"
      ],
      "metadata": {
        "id": "WOZRVexmVPeG"
      },
      "execution_count": 70,
      "outputs": []
    },
    {
      "cell_type": "code",
      "source": [
        "def menu():\n",
        "  while(True):\n",
        "    print(\"--------------------Menu--------------------\")\n",
        "    print(\"1. Generar registros (aleatoriamente)\")\n",
        "    print(\"2. Eliminar registro\")\n",
        "    print(\"3. Imprimir\")\n",
        "    print(\"4. Buscar\")\n",
        "    print(\"5. Buscar por apelidos\")\n",
        "    print(\"6. Ordenar\")\n",
        "    print(\"7. Generar archivo\")\n",
        "    print(\"8. Cargar archivo\")\n",
        "    print(\"9. Imprimir archivo\")\n",
        "    print(\"10. Borrar registros\")\n",
        "    print(\"0. Salir\")\n",
        "    print(\"--------------------------------------------\")\n",
        "    try:\n",
        "      op = int(input(\"Escoge una opcion: \"))\n",
        "\n",
        "    except:\n",
        "      print(\"\\n-Error, vuelve a intentarlo-\\n\")\n",
        "\n",
        "    else:\n",
        "\n",
        "      if op == 1:\n",
        "        print(\"\\n\")\n",
        "        aleatorio()\n",
        "\n",
        "      if op == 2:\n",
        "        print(\"\\n\")\n",
        "        eliminar()\n",
        "\n",
        "      if op == 3:\n",
        "        impresion()\n",
        "\n",
        "      if op == 4:\n",
        "        print(\"\\n\")\n",
        "        buscar()\n",
        "\n",
        "      if op == 5:\n",
        "        print(\"\\n\")\n",
        "        buscapaterno()\n",
        "\n",
        "      if op == 6:\n",
        "        ordenar()\n",
        "\n",
        "      if op == 7:\n",
        "        genarchi()\n",
        "\n",
        "      if op == 8:\n",
        "        cargar()\n",
        "\n",
        "      if op == 9:\n",
        "        print(\"\\n\")\n",
        "        imparhi()\n",
        "\n",
        "      if op == 10:\n",
        "        deshacer()\n",
        "\n",
        "      if op == 0:\n",
        "        break\n",
        "      \n",
        "      clear_output()\n",
        "\n",
        "menu()"
      ],
      "metadata": {
        "id": "TCZUT8DOmo2p",
        "outputId": "66cfc2e5-6ec5-4808-8ce2-ab24cb874bf8",
        "colab": {
          "base_uri": "https://localhost:8080/"
        }
      },
      "execution_count": 72,
      "outputs": [
        {
          "name": "stdout",
          "output_type": "stream",
          "text": [
            "--------------------Menu--------------------\n",
            "1. Generar registros (aleatoriamente)\n",
            "2. Eliminar registro\n",
            "3. Imprimir\n",
            "4. Buscar\n",
            "5. Buscar por apelidos\n",
            "6. Ordenar\n",
            "7. Generar archivo\n",
            "8. Cargar archivo\n",
            "9. Imprimir archivo\n",
            "10. Borrar registros\n",
            "0. Salir\n",
            "--------------------------------------------\n",
            "Escoge una opcion: 0\n"
          ]
        }
      ]
    }
  ],
  "metadata": {
    "colab": {
      "name": "Welcome To Colaboratory",
      "provenance": [],
      "include_colab_link": true
    },
    "kernelspec": {
      "display_name": "Python 3",
      "name": "python3"
    }
  },
  "nbformat": 4,
  "nbformat_minor": 0
}