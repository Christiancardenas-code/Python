{
  "cells": [
    {
      "cell_type": "markdown",
      "metadata": {
        "id": "view-in-github",
        "colab_type": "text"
      },
      "source": [
        "<a href=\"https://colab.research.google.com/github/Christiancardenas-code/Python/blob/main/PY_CCQ_A03.ipynb\" target=\"_parent\"><img src=\"https://colab.research.google.com/assets/colab-badge.svg\" alt=\"Open In Colab\"/></a>"
      ]
    },
    {
      "cell_type": "markdown",
      "source": [
        "1.- Algoritmo que lea 3 calificaciones calcule el promedio del alumno y desplegar: \n",
        "\n",
        "Si prom < 30 Repetir \n",
        "Si prom >=30 y prom <60 extraordinario \n",
        "Si prom >=60 y prom <70 suficiente \n",
        "Si prom >=70 y prom <80 Regular \n",
        "Si prom >=80 y prom <90 bien \n",
        "Si prom >=90 y prom <98 muy bien \n",
        "Si prom >=98 y prom <=100 excelente \n",
        "Si prom >100 Error en promedio \n",
        "Realizar el algoritmo optimizado.\n",
        "\n"
      ],
      "metadata": {
        "id": "lEi6phiN4dkO"
      }
    },
    {
      "cell_type": "code",
      "source": [
        "cal1 = int(input(\"Dame la primera calificacion: \"))\n",
        "cal2 = int(input(\"Dame la segunda calificacion: \"))\n",
        "cal3 = int(input(\"Dame la tercera calificacion: \"))\n",
        "\n",
        "prom = (cal1 + cal2 + cal3) / 3\n",
        "\n",
        "if prom < 80:\n",
        "\n",
        "  if prom < 60:\n",
        "\n",
        "    if prom < 30:\n",
        "      print(\"\\nDebe repetir\\n\")\n",
        "\n",
        "    else:\n",
        "      print(\"\\nExtraordinario\\n\")\n",
        "\n",
        "  elif prom < 70:\n",
        "    print(\"\\nSuficiente\\n\")\n",
        "\n",
        "  else:\n",
        "    print(\"\\nRegular\\n\")\n",
        "\n",
        "elif prom < 98:\n",
        "\n",
        "  if prom < 90:\n",
        "    print(\"\\nBien\\n\")\n",
        "\n",
        "  else:\n",
        "    print(\"\\nMuy bien\\n\")\n",
        "\n",
        "elif prom <= 100:\n",
        "  print(\"\\nExcelente\\n\")\n",
        "\n",
        "else:\n",
        "  print(\"\\nError\\n\")\n",
        "print(f\"Su promedio es: {round(prom, 2)}\")"
      ],
      "metadata": {
        "id": "hwGw09Cy4dFP",
        "outputId": "844291d3-b61a-4d2c-cae3-7ce42edc5ffe",
        "colab": {
          "base_uri": "https://localhost:8080/"
        }
      },
      "execution_count": 8,
      "outputs": [
        {
          "output_type": "stream",
          "name": "stdout",
          "text": [
            "Dame la primera calificacion: 92\n",
            "Dame la segunda calificacion: 74\n",
            "Dame la tercera calificacion: 66\n",
            "\n",
            "Regular\n",
            "\n",
            "Su promedio es: 77.33\n"
          ]
        }
      ]
    },
    {
      "cell_type": "markdown",
      "source": [
        "2.- Algoritmo que sirva para calcular el salario semanal de un trabajador donde se obtiene como dato de entrada las horas semanales trabajadas, el salario por hora. \n",
        "\n",
        "El programa deberá calcular el salario normal, salario extra y salario total, considerando lo siguiente: \n",
        "\n",
        "Jornada Normal de 40 horas. \n",
        "El salario normal se considera las horas trabajadas menores o igual a la jornada normal\n",
        "Salario extra se considera las horas trabajadas mayores a la jornada normal y se pagan dobles las primeras 9 y triples a partir de la décima hora extra \n",
        "\n",
        "Nota: Desplegar todos los datos (Salario x hora, Horas Trabajadas, Salario normal, Salario extra y Salario Total)."
      ],
      "metadata": {
        "id": "Ef6UloQ79XyH"
      }
    },
    {
      "cell_type": "code",
      "source": [
        "horas = int(input(\"Horas trabajadas: \"))\n",
        "sxh = int(input(\"\\nSalario por hora: \"))\n",
        "JN = 40\n",
        "\n",
        "if horas <= JN:\n",
        "  sn = horas * sxh\n",
        "  se = 0\n",
        "\n",
        "else:\n",
        "  sn = JN * sxh\n",
        "\n",
        "  if horas <= JN + 9:\n",
        "    se = (horas - JN) * sxh * 2\n",
        "\n",
        "  else:\n",
        "    se = (9 * sxh + 2) + ((horas - (JN + 9)) * sxh * 3)\n",
        "\n",
        "st = sn + se\n",
        "\n",
        "print(\"\\n-------------------------------\")\n",
        "print(f\"Horas trabajadas: |{horas}\\n\")\n",
        "print(f\"Salario por hora: |${sxh}\")\n",
        "print(f\"Salaro normal:    |${sn}\")\n",
        "print(f\"Salario extra:    |${se}\")\n",
        "print(\"-------------------------------\")"
      ],
      "metadata": {
        "id": "egrI4I4D9VyB",
        "outputId": "62f9495e-391d-4519-a4c8-8cf6adeac7ed",
        "colab": {
          "base_uri": "https://localhost:8080/"
        }
      },
      "execution_count": 11,
      "outputs": [
        {
          "output_type": "stream",
          "name": "stdout",
          "text": [
            "Horas trabajadas: 42\n",
            "\n",
            "Salario por hora: 200\n",
            "\n",
            "-------------------------------\n",
            "Horas trabajadas: |42\n",
            "\n",
            "Salario por hora: |$200\n",
            "Salaro normal:    |$8000\n",
            "Salario extra:    |$800\n",
            "-------------------------------\n"
          ]
        }
      ]
    },
    {
      "cell_type": "markdown",
      "source": [
        "3.- Algoritmo que sirva para desplegar el Total de una llamada telefónica donde se pide como datos de entrada los minutos y el tipo de llamada, se cobra de la siguiente manera:\n",
        "\n",
        "1.- Llamada Local 3.00 sin límite de tiempo \n",
        "\n",
        "2.- Llamada Nacional 7.00 por los 3 primeros minutos y 2.00 minuto adicional \n",
        "\n",
        "3.- Llamada Internacional 9.00 por los 2 primeros minutos y 4.00 minuto adicional\n",
        "\n",
        "Desplegar, Subtotal,Iva (16%) y Total."
      ],
      "metadata": {
        "id": "7zK91i6C_iQZ"
      }
    },
    {
      "cell_type": "code",
      "source": [
        "local = 3\n",
        "\n",
        "print(\"1. Llamada local\")\n",
        "print(\"2. Llamada nacional\")\n",
        "print(\"3. Llamada internacional\\n\")\n",
        "\n",
        "tipo = int(input(\"Que tipo de llamada? \"))\n",
        "min = int(input(\"\\nCuantos minutos? \"))\n",
        "\n",
        "if tipo == 1:\n",
        "  iva = local * 0.16\n",
        "  total = local + iva\n",
        "\n",
        "  print(\"---------------------------------------\")\n",
        "  print(f\"Subtotal: |${local}\")\n",
        "  print(f\"Iva:      |${round(iva, 2)}\")\n",
        "  print(f\"Tiempo:   |{min}\")\n",
        "  print(f\"Total:    |${round(total, 2)}\")\n",
        "  print(\"---------------------------------------\")\n",
        "\n",
        "elif tipo == 2:\n",
        "  if min <= 3:\n",
        "    iva = 7 * 0.16\n",
        "    total = 7 + iva\n",
        "\n",
        "    print(\"---------------------------------------\")\n",
        "    print(\"Subtotal: |$7\")\n",
        "    print(f\"Iva:      |${round(iva, 2)}\")\n",
        "    print(f\"Tiempo:   |{min}\")\n",
        "    print(f\"Total:    |${round(total, 2)}\")\n",
        "    print(\"---------------------------------------\")\n",
        "  \n",
        "  else:\n",
        "    nacional = (7 + (2 * min))\n",
        "    iva = nacional * 0.16\n",
        "    total = nacional + iva\n",
        "\n",
        "    print(\"---------------------------------------\")\n",
        "    print(f\"Subtotal: |${nacional}\")\n",
        "    print(f\"Iva:      |${round(iva, 2)}\")\n",
        "    print(f\"Tiempo:   |{min}\")\n",
        "    print(f\"Total:    |${round(total, 2)}\")\n",
        "    print(\"---------------------------------------\")\n",
        "\n",
        "elif tipo == 3:\n",
        "  if min <= 2:\n",
        "    iva = 9 * 0.16\n",
        "    total = 9 + iva\n",
        "\n",
        "    print(\"---------------------------------------\")\n",
        "    print(\"Subtotal: |$9 \")\n",
        "    print(f\"Iva:      |${round(iva, 2)}\")\n",
        "    print(f\"Tiempo:   |{min}\")\n",
        "    print(f\"Total:    |${round(total, 2)}\")\n",
        "    print(\"---------------------------------------\")\n",
        "\n",
        "  else:\n",
        "    inter = (9 + (4 * min ))\n",
        "    iva = inter * 0.16\n",
        "    total = inter + iva\n",
        "\n",
        "    print(\"---------------------------------------\")\n",
        "    print(f\"Subtotal: |${inter}\")\n",
        "    print(f\"Iva:      |${round(iva, 2)}\")\n",
        "    print(f\"Tiempo:   |{min}\")\n",
        "    print(f\"Total:    |${round(total, 2)}\")\n",
        "    print(\"---------------------------------------\")\n",
        "\n",
        "elif tipo >= 4:\n",
        "  print(\"---------------------------------------\")\n",
        "  print(\"La opcion no existe\")\n",
        "  print(\"---------------------------------------\")"
      ],
      "metadata": {
        "id": "0vALnt9G_hgp",
        "outputId": "3a5f0b12-8f51-4392-d2f9-7c4e1e32e1f7",
        "colab": {
          "base_uri": "https://localhost:8080/"
        }
      },
      "execution_count": 14,
      "outputs": [
        {
          "output_type": "stream",
          "name": "stdout",
          "text": [
            "1. Llamada local\n",
            "2. Llamada nacional\n",
            "3. Llamada internacional\n",
            "\n",
            "Que tipo de llamada? 2\n",
            "\n",
            "Cuantos minutos? 2\n",
            "---------------------------------------\n",
            "Subtotal: |$7\n",
            "Iva:      |$1.12\n",
            "Tiempo:   |2\n",
            "Total:    |$8.12\n",
            "---------------------------------------\n"
          ]
        }
      ]
    },
    {
      "cell_type": "markdown",
      "source": [
        "4.- Algoritmo que sirva para calcular el Total a pagar por consumo de agua, donde el dato de entrada son los M3 de agua consumidos, Tomar en cuenta que se cobra escalonada de la Siguiente manera: \n",
        "\n",
        "Rango1: 0 al 4 M3 50 x facturación sin importar cuánto consumió en este rango \n",
        "Rango2: 5 a 15 M3 8.00 x M3 \n",
        "Rango3: 16 a 50 M3 10.00 x M3 \n",
        "Rango4: 51 M3 en adelante 11.00 x M3\n",
        "\n",
        "Nota: Desplegar SubTotal, Iva(16%), y Total a pagar."
      ],
      "metadata": {
        "id": "I0SguEw8DHhh"
      }
    },
    {
      "cell_type": "code",
      "source": [
        "m3 = int(input(\"Dame los m3: \"))\n",
        "\n",
        "if m3 <= 4:\n",
        "  dinero = 50\n",
        "  iva = dinero * 0.16\n",
        "  total = dinero + iva\n",
        "\n",
        "elif m3 <= 15:\n",
        "  dinero = m3 * 8\n",
        "  iva = dinero  * 0.16\n",
        "  total = dinero + iva\n",
        "\n",
        "elif m3 <= 50:\n",
        "  dinero = m3 * 10\n",
        "  iva = dinero * 0.16\n",
        "  total = dinero + iva\n",
        "\n",
        "else:\n",
        "  dinero = m3 * 11\n",
        "  iva = dinero * 0.16\n",
        "  total = dinero + iva\n",
        "\n",
        "print(\"------------------------------\")\n",
        "print(f\"m3 de agua:    |{m3}\")\n",
        "print(f\"Subtotal:      |${dinero}\")\n",
        "print(f\"Iva:           |${round(iva, 2)}\")\n",
        "print(f\"Total a pagar: |${round(total, 2)}\")\n",
        "print(\"------------------------------\")"
      ],
      "metadata": {
        "id": "4fYhs8kyDHEU",
        "outputId": "13269c36-788f-4fa2-9791-2981ef50164a",
        "colab": {
          "base_uri": "https://localhost:8080/"
        }
      },
      "execution_count": 16,
      "outputs": [
        {
          "output_type": "stream",
          "name": "stdout",
          "text": [
            "Dame los m3: 55\n",
            "------------------------------\n",
            "m3 de agua:    |55\n",
            "Subtotal:      |$605\n",
            "Iva:           |$96.8\n",
            "Total a pagar: |$701.8\n",
            "------------------------------\n"
          ]
        }
      ]
    },
    {
      "cell_type": "markdown",
      "source": [
        "5- En la materia de Metodología de la programación se aplican 5 exámenes, calcular el promedio final de la materia donde la calificación menor de los exámenes se anula y el promedio se calcula en base a 4 exámenes.\n",
        "Desplegar el promedio final. "
      ],
      "metadata": {
        "id": "uEURZXNkFRhK"
      }
    },
    {
      "cell_type": "code",
      "source": [
        "cal1 = int(input(\"Dame la primera calificacion: \"))\n",
        "cal2 = int(input(\"Dame la segunda calificacion: \"))\n",
        "cal3 = int(input(\"Dame la tercera calificacion: \"))\n",
        "cal4 = int(input(\"Dame la cuarta calificacion: \"))\n",
        "cal5 = int(input(\"Dame la quinta calificacion: \"))\n",
        "\n",
        "calM = cal1\n",
        "\n",
        "if cal2 < calM:\n",
        "  calM = cal2\n",
        "\n",
        "if cal3 < calM:\n",
        "  calM = cal3\n",
        "\n",
        "if cal4 < calM:\n",
        "  calM = cal4\n",
        "\n",
        "if cal5 < calM:\n",
        "  calM = cal5\n",
        "\n",
        "prom = (cal1 + cal2 + cal3 + cal4 + cal5 - calM) / 4\n",
        "\n",
        "print(\"--------------------\")\n",
        "print(f\"El promedio es: {round(prom, 2)}\")"
      ],
      "metadata": {
        "id": "mqRz9pbXFRA7",
        "outputId": "6dad5689-ddd1-4c83-bd6f-c83e00d59a3e",
        "colab": {
          "base_uri": "https://localhost:8080/"
        }
      },
      "execution_count": 17,
      "outputs": [
        {
          "output_type": "stream",
          "name": "stdout",
          "text": [
            "Dame la primera calificacion: 55\n",
            "Dame la segunda calificacion: 100\n",
            "Dame la tercera calificacion: 98\n",
            "Dame la cuarta calificacion: 67\n",
            "Dame la quinta calificacion: 88\n",
            "--------------------\n",
            "El promedio es: 88.25\n"
          ]
        }
      ]
    },
    {
      "cell_type": "markdown",
      "source": [
        "6.- Algoritmo que sirva para el juego del CHINCHAMPU (Piedra, Papel, Tijera) para 1 jugador y la computadora, (usar condición anidada)."
      ],
      "metadata": {
        "id": "r1SIlA_kJIOD"
      }
    },
    {
      "cell_type": "code",
      "source": [
        "import random\n",
        "\n",
        "print(\"-Escoge una opcion-\\n\")\n",
        "print(\"1. Piedra\")\n",
        "print(\"2. Papel\")\n",
        "print(\"3. Tijeras\")\n",
        "\n",
        "j1 = int(input(\"Escoge una opcion: \"))\n",
        "cpu = random.randint(1, 3)\n",
        "\n",
        "if j1 == cpu:\n",
        "  print(\"\\nEmpate\\n\")\n",
        "\n",
        "else:\n",
        "  if j1 == 1:\n",
        "    if cpu == 2:\n",
        "      print(f\"\\nElegiste {j1} y la computadora {cpu}, perdiste\\n\")\n",
        "    \n",
        "    else:\n",
        "      print(f\"\\nElegiste {j1} y la computadora {cpu}, ganaste\\n\")\n",
        "    \n",
        "  if j1 == 2:\n",
        "    if cpu == 1:\n",
        "      print(f\"\\nElegiste {j1} y la computadora {cpu}, ganaste\\n\")\n",
        "\n",
        "    else:\n",
        "      print(f\"\\nElegiste {j1} y la computadora {cpu}, perdiste\\n\")\n",
        "  \n",
        "  if j1 == 3:\n",
        "    if cpu == 1:\n",
        "      print(f\"\\nElegiste {j1} y la computadora {cpu}, perdiste\\n\")\n",
        "    \n",
        "    else:\n",
        "      print(f\"\\nElegiste {j1} y la computadora {cpu}, ganaste\\n\")"
      ],
      "metadata": {
        "id": "Ruvejh90GWpG",
        "outputId": "305a66b1-0f2a-4f64-a795-cfeeb0de03e8",
        "colab": {
          "base_uri": "https://localhost:8080/"
        }
      },
      "execution_count": 18,
      "outputs": [
        {
          "output_type": "stream",
          "name": "stdout",
          "text": [
            "-Escoge una opcion-\n",
            "\n",
            "1. Piedra\n",
            "2. Papel\n",
            "3. Tijeras\n",
            "Escoge una opcion: 1\n",
            "\n",
            "Elegiste 1 y la computadora 2, perdiste\n",
            "\n"
          ]
        }
      ]
    },
    {
      "cell_type": "markdown",
      "source": [
        "7.- Algoritmo que sirva para el juego del CHINCHAMPU (Piedra, Papel, Tijera) para 1 jugador y la computadora, (usar selección múltiple)."
      ],
      "metadata": {
        "id": "WG2WhyteJFSF"
      }
    },
    {
      "cell_type": "code",
      "source": [
        "import random\n",
        "\n",
        "print(\"-Escoge una opcion-\\n\")\n",
        "print(\"1. Piedra\")\n",
        "print(\"2. Papel\")\n",
        "print(\"3. Tijeras\")\n",
        "\n",
        "j1 = int(input(\"Escoge una opcion: \"))\n",
        "cpu = random.randint(1, 3)\n",
        "\n",
        "if j1 == cpu:\n",
        "  print(\"\\nEmpate\\n\")\n",
        "\n",
        "elif j1 == 1:\n",
        "  if cpu == 2:\n",
        "     print(f\"\\nElegiste {j1} y la computadora {cpu}, perdiste\\n\")\n",
        "    \n",
        "  else:\n",
        "     print(f\"\\nElegiste {j1} y la computadora {cpu}, ganaste\\n\")\n",
        "\n",
        "elif j1 == 2:\n",
        "  if cpu == 1:\n",
        "     print(f\"\\nElegiste {j1} y la computadora {cpu}, ganaste\\n\")\n",
        "  \n",
        "  else:\n",
        "     print(f\"\\nElegiste {j1} y la computadora {cpu}, perdiste\\n\")\n",
        "\n",
        "elif j1 == 3:\n",
        "  if cpu == 2:\n",
        "     print(f\"\\nElegiste {j1} y la computadora {cpu}, ganaste\\n\")\n",
        "  \n",
        "  else:\n",
        "     print(f\"\\nElegiste {j1} y la computadora {cpu}, perdiste\\n\")"
      ],
      "metadata": {
        "id": "cNpP8iCFJExM",
        "outputId": "30b287d1-2f37-4f43-c278-6b4bf6a01c4c",
        "colab": {
          "base_uri": "https://localhost:8080/"
        }
      },
      "execution_count": 19,
      "outputs": [
        {
          "output_type": "stream",
          "name": "stdout",
          "text": [
            "-Escoge una opcion-\n",
            "\n",
            "1. Piedra\n",
            "2. Papel\n",
            "3. Tijeras\n",
            "Escoge una opcion: 3\n",
            "\n",
            "Elegiste 3 y la computadora 2, ganaste\n",
            "\n"
          ]
        }
      ]
    },
    {
      "cell_type": "markdown",
      "source": [
        "8.- Una tienda de electrónica ofrece descuentos a sus clientes, dependiendo del tipo de producto que compren. Si el cliente compra una computadora, tiene un descuento del 5% en el precio de la computadora y un 10% de descuento en una impresora si la compra junto con la computadora. Si el cliente compra una televisión, tiene un descuento del 7% en el precio de la televisión y un 15% de descuento en una barra de sonido si la compra junto con la televisión. Si el cliente compra una consola de videojuegos, tiene un descuento del 10% en el precio de la consola y un 20% de descuento en un juego si lo compra junto con la consola. Escribe un programa que calcule el precio a pagar por un cliente, tomando en cuenta los descuentos correspondientes."
      ],
      "metadata": {
        "id": "ZX6OwZxOKi60"
      }
    },
    {
      "cell_type": "code",
      "source": [
        "print(\"Articulos en venta           | Precio\")\n",
        "print(\"-------------------------------------\")\n",
        "print(\"1. Computadora               | $7,500\")\n",
        "print(\"2. Impresora                 | $3,200\")\n",
        "print(\"3. Television                | $9,900\")\n",
        "print(\"4. Barra de sonido           | $4,000\")\n",
        "print(\"5. Consola de videojuegos    | $6,200\")\n",
        "print(\"6. Juego para consola        | $1,200\")\n",
        "print(\"-------------------------------------\")\n",
        "print(\"Escoge 2 articulos sin repetir...\")\n",
        "\n",
        "art1 = int(input(\"Primer articulo: \"))\n",
        "art2 = int(input(\"Segundo articulo: \"))\n",
        "\n",
        "com = 7500 * 0.05\n",
        "imp = 3200 * 0.1\n",
        "tel = 9900 * 0.07\n",
        "bar = 4000 * 0.15\n",
        "con = 6200 * 0.1\n",
        "jue = 1200 * 0.2\n",
        "\n",
        "if art1 == art2:\n",
        "  print(f\"\\nArticulos repetidos, no hay descuentos\")\n",
        "\n",
        "if art1 == 1:\n",
        "  if art2 == 2:\n",
        "\n",
        "    total1 = 7500 - com\n",
        "    total2 = 3200 - imp\n",
        "\n",
        "    print(\"\\nAl comprar en conjunto, estos articulos tienen descuento:\")\n",
        "    print(f\"Computadora   | ${round(total1, 2)}\")\n",
        "    print(f\"Impresora     | ${round (total2, 2)}\")\n",
        "    print(\"-------------------------------------\")\n",
        "    print(f\"Total a pagar | ${total1 + total2}\")\n",
        "\n",
        "  else:\n",
        "    print(\"\\nEstos articulos no tienen descuento...\")\n",
        "\n",
        "if art1 == 2:\n",
        "  if art2 == 1:\n",
        "\n",
        "    total1 = 7500 - com\n",
        "    total2 = 3200 - imp\n",
        "\n",
        "    print(\"\\nAl comprar en conjunto, estos articulos tienen descuento:\")\n",
        "    print(f\"Impresora       | ${round(total2, 2)}\")\n",
        "    print(f\"Computadora     | ${round (total1, 2)}\")\n",
        "    print(\"---------------------------------------\")\n",
        "    print(f\"Total a pagar | ${total1 + total2}\")\n",
        "  \n",
        "  else:\n",
        "    print(\"\\nEstos articulos no tienen descuento...\")\n",
        "\n",
        "if art1 == 3:\n",
        "  if art2 == 4:\n",
        "\n",
        "    total1 = 9900 - tel\n",
        "    total2 = 4000 - bar\n",
        "\n",
        "    print(\"\\nAl comprar en conjunto, estos articulos tienen descuento:\")\n",
        "    print(f\"Television          | ${round(total1, 2)}\")\n",
        "    print(f\"Barra de sonido     | ${round (total2, 2)}\")\n",
        "    print(\"-------------------------------------------\")\n",
        "    print(f\"Total a pagar | ${total1 + total2}\")\n",
        "\n",
        "  else:\n",
        "    print(\"\\nEstos articulos no tienen descuento...\")\n",
        "\n",
        "if art1 == 4:\n",
        "  if art2 == 3:\n",
        "\n",
        "    total1 = 9900 - tel\n",
        "    total2 = 4000 - bar\n",
        "\n",
        "    print(\"\\nAl comprar en conjunto, estos articulos tienen descuento:\")\n",
        "    print(f\"Barra de sonido          | ${round(total2, 2)}\")\n",
        "    print(f\"Television               | ${round (total1, 2)}\")\n",
        "    print(\"------------------------------------------------\")\n",
        "    print(f\"Total a pagar | ${total1 + total2}\")\n",
        "\n",
        "  else:\n",
        "    print(\"\\nEstos articulos no tienen descuento...\")\n",
        "\n",
        "if art1 == 5:\n",
        "  if art2 == 6:\n",
        "\n",
        "    total1 = 6200 - con\n",
        "    total2 = 1200 - jue\n",
        "\n",
        "    print(\"\\nAl comprar en conjunto, estos articulos tienen descuento:\")\n",
        "    print(f\"Consola de videojuegos          | ${round(total1, 2)}\")\n",
        "    print(f\"Juego para consola              | ${round (total2, 2)}\")\n",
        "    print(\"-------------------------------------------------------\")\n",
        "    print(f\"Total a pagar | ${total1 + total2}\")\n",
        "  \n",
        "  else:\n",
        "    print(\"\\nEstos articulos no tienen descuento...\")\n",
        "  \n",
        "if art1 == 6:\n",
        "  if art2 == 5:\n",
        "\n",
        "    total1 = 6200 - con\n",
        "    total2 = 1200 - jue\n",
        "\n",
        "    print(\"\\nAl comprar en conjunto, estos articulos tienen descuento:\")\n",
        "    print(f\"Consola de videojuegos          | ${round(total1, 2)}\")\n",
        "    print(f\"Juego para consola              | ${round (total2, 2)}\")\n",
        "    print(\"-------------------------------------------------------\")\n",
        "    print(f\"Total a pagar | ${total1 + total2}\")\n",
        "\n",
        "  else:\n",
        "    print(\"\\nEstos articulos no tienen descuento...\")"
      ],
      "metadata": {
        "id": "acJJDIs-Kgr_",
        "outputId": "cba4c092-d4e1-4a62-d3fa-c335f3873abb",
        "colab": {
          "base_uri": "https://localhost:8080/"
        }
      },
      "execution_count": 32,
      "outputs": [
        {
          "output_type": "stream",
          "name": "stdout",
          "text": [
            "Articulos en venta           | Precio\n",
            "-------------------------------------\n",
            "1. Computadora               | $7,500\n",
            "2. Impresora                 | $3,200\n",
            "3. Television                | $9,900\n",
            "4. Barra de sonido           | $4,000\n",
            "5. Consola de videojuegos    | $6,200\n",
            "6. Juego para consola        | $1,200\n",
            "-------------------------------------\n",
            "Escoge 2 articulos sin repetir...\n",
            "Primer articulo: 1\n",
            "Segundo articulo: 2\n",
            "\n",
            "Al comprar en conjunto, estos articulos tienen descuento:\n",
            "Computadora   | $7125.0\n",
            "Impresora     | $2880.0\n",
            "-------------------------------------\n",
            "Total a pagar | $10005.0\n"
          ]
        }
      ]
    },
    {
      "cell_type": "markdown",
      "source": [
        "9.- En una tienda de ropa, los precios de los productos cambian dependiendo de la temporada. Durante la temporada de verano, todos los productos tienen un descuento del 20%. Durante la temporada de invierno, los productos con etiqueta roja tienen un descuento del 30% y los productos con etiqueta verde tienen un descuento del 15%. Durante la temporada de primavera y otoño, los productos con etiqueta amarilla tienen un descuento del 10%. Escribe un programa que calcule el precio a pagar por un cliente, tomando en cuenta los descuentos correspondientes."
      ],
      "metadata": {
        "id": "sK12m_bQKlFj"
      }
    },
    {
      "cell_type": "code",
      "source": [
        "import random\n",
        "\n",
        "verano = 1\n",
        "invierno = 2\n",
        "primavera = 3\n",
        "\n",
        "tempo = random.randint(1, 3)\n",
        "\n",
        "print(\"Articulos en venta  | Precio\")\n",
        "print(\"---------------------------------------------\")\n",
        "print(\"1. Camisetas        | $500   | Etiq. Amarilla\")\n",
        "print(\"2. Pantalones       | $1,500 | Etiq. Roja\")\n",
        "print(\"3. Chamarras        | $1,000 | Etiq. Verde\")\n",
        "print(\"4. Zapatos          | $1,200 | Etiq. roja\")\n",
        "print(\"---------------------------------------------\")\n",
        "\n",
        "if tempo == 1:\n",
        "  print(\"En verano tenemos 20% de descuento en nuestros articulos\")\n",
        "  print(\"--------------------------------------------------------\")\n",
        "  art = int(input(\"Seleccione un articulo: \"))\n",
        "\n",
        "  if art == 1:\n",
        "    cam = 500 * 0.2\n",
        "    total = 500 - cam\n",
        "    print(f\"\\nEl costo de la camisa con descuento es de: {total}\")\n",
        "\n",
        "  elif art == 2:\n",
        "    pan = 1500 * 0.2\n",
        "    total = 1500 - pan\n",
        "    print(f\"\\nEl costo del pantalon con descuento es de: {total}\")\n",
        "\n",
        "  elif art == 3:\n",
        "    cha = 1000 * 0.2\n",
        "    total = 1000 - cha\n",
        "    print(f\"\\nEl costo de la chamarra con descuento es de: {total}\")\n",
        "\n",
        "  elif art == 4:\n",
        "    zap = 1200 * 0.2\n",
        "    total = 1200 - zap\n",
        "    print(f\"\\nEl costo de los zapatos con descuento es de: {total}\")\n",
        "\n",
        "if tempo == 2:\n",
        "  print(\"En invierno los articulos de etiq. roja tienen 30% de descuento\")\n",
        "  print(\"y los de etiq. verde 15% de descuento\")\n",
        "  print(\"--------------------------------------------------------\")\n",
        "  art = int(input(\"Seleccione un articulo: \"))\n",
        "\n",
        "  if art == 1:\n",
        "    total = 500\n",
        "    print(f\"\\nEl costo de la camisa es de: {total}\")\n",
        "\n",
        "  elif art == 2:\n",
        "    pan = 1500 * 0.3\n",
        "    total = 1500 - pan\n",
        "    print(f\"\\nEl costo del pantalon con descuento es de: {total}\")\n",
        "\n",
        "  elif art == 3:\n",
        "    cha = 1000 * 0.15\n",
        "    total = 1000 - cha\n",
        "    print(f\"\\nEl costo de la chamarra con descuento es de: {total}\")\n",
        "\n",
        "  elif art == 4:\n",
        "    zap = 1200 * 0.3\n",
        "    total = 1200 - zap\n",
        "    print(f\"\\nEl costo de los zapatos con descuento es de: {total}\")\n",
        "\n",
        "if tempo == 3:\n",
        "  print(\"En primavera y otoño tenemos 10% de descuento en los articulos\")\n",
        "  print(\"de etiq. amarilla\")\n",
        "  print(\"--------------------------------------------------------\")\n",
        "  art = int(input(\"Seleccione un articulo: \"))\n",
        "\n",
        "  if art == 1:\n",
        "    cam = 500 * 0.1\n",
        "    total = 500 - cam\n",
        "    print(f\"\\nEl costo de la camisa con descuento es de: {total}\")\n",
        "\n",
        "  elif art == 2:\n",
        "    total = 1500\n",
        "    print(f\"\\nEl costo del pantalon es de: {total}\")\n",
        "\n",
        "  elif art == 3:\n",
        "    total = 1000\n",
        "    print(f\"\\nEl costo de la chamarra es de: {total}\")\n",
        "\n",
        "  elif art == 4:\n",
        "    total = 1200\n",
        "    print(f\"\\nEl costo de los zapatos es de: {total}\")"
      ],
      "metadata": {
        "id": "w6a72YPjKkpG",
        "outputId": "5237610b-f3dc-4055-f8d6-185525cdc99e",
        "colab": {
          "base_uri": "https://localhost:8080/"
        }
      },
      "execution_count": 31,
      "outputs": [
        {
          "output_type": "stream",
          "name": "stdout",
          "text": [
            "Articulos en venta  | Precio\n",
            "---------------------------------------------\n",
            "1. Camisetas        | $500   | Etiq. Amarilla\n",
            "2. Pantalones       | $1,500 | Etiq. Roja\n",
            "3. Chamarras        | $1,000 | Etiq. Verde\n",
            "4. Zapatos          | $1,200 | Etiq. roja\n",
            "---------------------------------------------\n",
            "En invierno los articulos de etiq. roja tienen 30% de descuento\n",
            "y los de etiq. verde 15% de descuento\n",
            "--------------------------------------------------------\n",
            "Seleccione un articulo: 2\n",
            "\n",
            "El costo del pantalon con descuento es de: 1050.0\n"
          ]
        }
      ]
    },
    {
      "cell_type": "markdown",
      "source": [
        "10.- Un restaurante ofrece descuentos a sus clientes, dependiendo del día de la semana y del tipo de menú que pidan. Los lunes, los clientes que pidan el menú del día tienen un descuento del 10%. Los martes, los clientes que pidan el menú infantil tienen un descuento del 20%. Los miércoles, los clientes que pidan el menú vegetariano tienen un descuento del 15%. Los jueves, los clientes que pidan el menú del chef tienen un descuento del 5%. Los viernes, los clientes que pidan el menú del día tienen un descuento del 5%. Los sábados y domingos no hay descuentos. Escribe un programa que calcule el precio a pagar por un cliente, tomando en cuenta los descuentos correspondientes."
      ],
      "metadata": {
        "id": "exF6Jwi7KoeM"
      }
    },
    {
      "cell_type": "code",
      "source": [
        "import random\n",
        "\n",
        "lunes = 1\n",
        "martes = 2\n",
        "miercoles = 3\n",
        "jueves = 4\n",
        "viernes = 5\n",
        "fin = 6\n",
        "\n",
        "tempo = random.randint(1, 6)\n",
        "\n",
        "print(\"       Menu         | Precio \")\n",
        "print(\"---------------------------------------------\")\n",
        "print(\"1. Menu del dia     | $75\")\n",
        "print(\"2. Menu infantil    | $120\")\n",
        "print(\"3. Menu vegetariano | $150\")\n",
        "print(\"4. Menu del chef    | $220\")\n",
        "print(\"---------------------------------------------\")\n",
        "\n",
        "if tempo == 1:\n",
        "  print(\"Los lunes el menu del dia tiene 10% de descuento\")\n",
        "  op = int(input(\"Escoge una opcion: \"))\n",
        "\n",
        "  if op == 1:\n",
        "    menu1 = 75 * 0.1\n",
        "    total = 75 - menu1\n",
        "    print(\"---------------------------------------------\")\n",
        "    print(f\"El costo del menu con descuento es: ${total}\")\n",
        "  \n",
        "  elif op == 2:\n",
        "    total = 120\n",
        "    print(\"---------------------------------------------\")\n",
        "    print(f\"El costo del menu es: ${total}\")\n",
        "  \n",
        "  elif op == 3:\n",
        "    total = 150\n",
        "    print(\"---------------------------------------------\")\n",
        "    print(f\"El costo del menu es: ${total}\")\n",
        "  \n",
        "  elif op == 4:\n",
        "    total = 220\n",
        "    print(\"---------------------------------------------\")\n",
        "    print(f\"El costo del menu es: ${total}\")\n",
        "\n",
        "if tempo == 2:\n",
        "  print(\"Los martes el menu infantil tiene 20% de descuento\")\n",
        "  op = int(input(\"Escoge una opcion: \"))\n",
        "\n",
        "  if op == 1:\n",
        "    total = 75\n",
        "    print(\"---------------------------------------------\")\n",
        "    print(f\"El costo del menu es: ${total}\")\n",
        "  \n",
        "  elif op == 2:\n",
        "    menu2 = 120 * 0.2\n",
        "    total = 120 - menu2\n",
        "    print(\"---------------------------------------------\")\n",
        "    print(f\"El costo del menu con descuento es: ${total}\")\n",
        "  \n",
        "  elif op == 3:\n",
        "    total = 150\n",
        "    print(\"---------------------------------------------\")\n",
        "    print(f\"El costo del menu es: ${total}\")\n",
        "  \n",
        "  elif op == 4:\n",
        "    total = 220\n",
        "    print(\"---------------------------------------------\")\n",
        "    print(f\"El costo del menu es: ${total}\")\n",
        "\n",
        "if tempo == 3:\n",
        "  print(\"Los miercoles el menu vegetariano tiene 15% de descuento\")\n",
        "  op = int(input(\"Escoge una opcion: \"))\n",
        "\n",
        "  if op == 1:\n",
        "    total = 75\n",
        "    print(\"---------------------------------------------\")\n",
        "    print(f\"El costo del menu es: ${total}\")\n",
        "  \n",
        "  elif op == 2:\n",
        "    total = 120\n",
        "    print(\"---------------------------------------------\")\n",
        "    print(f\"El costo del menu es: ${total}\")\n",
        "  \n",
        "  elif op == 3:\n",
        "    menu3 = 150 * 0.15\n",
        "    total = 150 - menu3\n",
        "    print(\"---------------------------------------------\")\n",
        "    print(f\"El costo del menu con descuento es: ${total}\")\n",
        "  \n",
        "  elif op == 4:\n",
        "    total = 220\n",
        "    print(\"---------------------------------------------\")\n",
        "    print(f\"El costo del menu es: ${total}\")\n",
        "\n",
        "if tempo == 4:\n",
        "  print(\"Los jueves el menu del chef tiene 5% de descuento\")\n",
        "  op = int(input(\"Escoge una opcion: \"))\n",
        "\n",
        "  if op == 1:\n",
        "    total = 75\n",
        "    print(\"---------------------------------------------\")\n",
        "    print(f\"El costo del menu es: ${total}\")\n",
        "  \n",
        "  elif op == 2:\n",
        "    total = 120\n",
        "    print(\"---------------------------------------------\")\n",
        "    print(f\"El costo del menu es: ${total}\")\n",
        "  \n",
        "  elif op == 3:\n",
        "    total = 150\n",
        "    print(\"---------------------------------------------\")\n",
        "    print(f\"El costo del menu es: ${total}\")\n",
        "  \n",
        "  elif op == 4:\n",
        "    menu4 = 220 * 0.05\n",
        "    total = 220 - menu4\n",
        "    print(\"---------------------------------------------\")\n",
        "    print(f\"El costo del menu con descuento es: ${total}\")\n",
        "\n",
        "if tempo == 5:\n",
        "  print(\"Los viernes el menu del dia tiene 5% de descuento\")\n",
        "  op = int(input(\"Escoge una opcion: \"))\n",
        "\n",
        "  if op == 1:\n",
        "    menu1 = 75 * 0.05\n",
        "    total = 75 - menu1\n",
        "    print(\"---------------------------------------------\")\n",
        "    print(f\"El costo del menu con descuento es: ${total}\")\n",
        "  \n",
        "  elif op == 2:\n",
        "    total = 120\n",
        "    print(\"---------------------------------------------\")\n",
        "    print(f\"El costo del menu es: ${total}\")\n",
        "  \n",
        "  elif op == 3:\n",
        "    total = 150\n",
        "    print(\"---------------------------------------------\")\n",
        "    print(f\"El costo del menu es: ${total}\")\n",
        "  \n",
        "  elif op == 4:\n",
        "    total = 220\n",
        "    print(\"---------------------------------------------\")\n",
        "    print(f\"El costo del menu es: ${total}\")\n",
        "\n",
        "if tempo == 6:\n",
        "  print(\"Los fines de semana no presentamos ningun descuento...\")\n",
        "  op = int(input(\"Escoge una opcion: \"))\n",
        "\n",
        "  if op == 1:\n",
        "    total = 75\n",
        "    print(\"---------------------------------------------\")\n",
        "    print(f\"El costo del menu es: ${total}\")\n",
        "  \n",
        "  elif op == 2:\n",
        "    total = 120\n",
        "    print(\"---------------------------------------------\")\n",
        "    print(f\"El costo del menu es: ${total}\")\n",
        "  \n",
        "  elif op == 3:\n",
        "    total = 150\n",
        "    print(\"---------------------------------------------\")\n",
        "    print(f\"El costo del menu es: ${total}\")\n",
        "  \n",
        "  elif op == 4:\n",
        "    total = 220\n",
        "    print(\"---------------------------------------------\")\n",
        "    print(f\"El costo del menu es: ${total}\")"
      ],
      "metadata": {
        "id": "ME41yquNKnme",
        "outputId": "22ac7b64-da8e-44bc-9a74-c0849432ab2a",
        "colab": {
          "base_uri": "https://localhost:8080/"
        }
      },
      "execution_count": 37,
      "outputs": [
        {
          "output_type": "stream",
          "name": "stdout",
          "text": [
            "       Menu         | Precio \n",
            "---------------------------------------------\n",
            "1. Menu del dia     | $75\n",
            "2. Menu infantil    | $120\n",
            "3. Menu vegetariano | $150\n",
            "4. Menu del chef    | $220\n",
            "---------------------------------------------\n",
            "Los miercoles el menu vegetariano tiene 15% de descuento\n",
            "Escoge una opcion: 3\n",
            "---------------------------------------------\n",
            "El costo del menu con descuento es: $127.5\n"
          ]
        }
      ]
    }
  ],
  "metadata": {
    "colab": {
      "name": "Te damos la bienvenida a Colaboratory",
      "provenance": [],
      "include_colab_link": true
    },
    "kernelspec": {
      "display_name": "Python 3",
      "name": "python3"
    }
  },
  "nbformat": 4,
  "nbformat_minor": 0
}