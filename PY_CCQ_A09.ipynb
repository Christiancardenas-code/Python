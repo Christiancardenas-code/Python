{
  "cells": [
    {
      "cell_type": "markdown",
      "metadata": {
        "id": "view-in-github",
        "colab_type": "text"
      },
      "source": [
        "<a href=\"https://colab.research.google.com/github/Christiancardenas-code/Python/blob/main/PY_CCQ_A09.ipynb\" target=\"_parent\"><img src=\"https://colab.research.google.com/assets/colab-badge.svg\" alt=\"Open In Colab\"/></a>"
      ]
    },
    {
      "cell_type": "code",
      "source": [
        "from tabulate import tabulate\n",
        "import random\n",
        "\n",
        "segundo = 1\n",
        "datos = []\n",
        "  \n",
        "diccionario = {\"Nombre\" : \"\",\"Ap paterno\" : \"\",\n",
        "              \"Ap materno\" : \"\", \"sexo\" : \"\",\"Edad\" : \"\",\"Matricula\" : \"\"}\n",
        "\n",
        "mat = random.randint(300000, 399999)\n",
        "\n",
        "edad = random.randint(18, 60)\n",
        "\n",
        "NombreM = [\"Jose\", \"Juan Gabriel\", \"Pedro\", \"Omar Alejandro\", \"Julio\", \"Jorge\", \"Andres\", \"Mario\",\n",
        "          \"Ernesto\", \"Javier Alberto\", \"Roberto\", \"Luis\", \"Alan\", \"Daniel\", \"Angel\"]\n",
        "\n",
        "NombreF = [\"Irene\", \"Cellinia\", \"Elena\", \"Maria\", \"Mirsha Monica\", \"Margareth\", \"Olivia\", \"Lisa\",\n",
        "          \"Ana Maria\", \"Janneth\", \"Jacqueline\", \"Ashley\", \"Carmen\", \"Celeste\", \"Melissa Lineth\"]\n",
        "\n",
        "segundo = random. randint(1, 10)\n",
        "\n",
        "sexo = [\"Hombre\", \"Mujer\"]\n",
        "\n",
        "ApP = [\"Rojas\", \"Cardenas\", \"Meza\", \"Aldama\", \"Gutierrez\", \"Leal\", \"Ornelas\", \"Osuna\",\n",
        "      \"Guerrero\", \"Navarro\", \"Monreal\", \"Gonzales\", \"Hernandez\", \"Zavala\", \"Patron\"]\n",
        "\n",
        "ApM = [\"Rosales\", \"Quiroz\", \"Tamayo\", \"Orozco\", \"Rodriguez\", \"Verdugo\", \"Ortiz\", \"Arellano\",\n",
        "      \"Alvarado\", \"Padilla\", \"Zavala\", \"Juarez\", \"Gallegos\", \"Morales\", \"McDonald\", \"Parker\"]\n",
        "\n",
        "\n",
        "def informacion():\n",
        "  sex = random.choice(sexo)\n",
        "\n",
        "  if sex == \"Mujer\":\n",
        "      datos.append({\"Matricula\" : mat, \"Nombre\" : random.choice(NombreF), \"Ap paterno\" : random.choice(ApP),\n",
        "                    \"Ap materno\" : random.choice(ApM), \"Edad\" : edad , \"Sexo\" : sex})\n",
        "\n",
        "  else:\n",
        "    datos.append({\"Matricula\" : mat, \"Nombre\" : random.choice(NombreM), \"Ap paterno\" : random.choice(ApP),\n",
        "                  \"Ap materno\" : random.choice(ApM), \"Edad\" : edad, \"Sexo\" : sex})\n",
        "\n",
        "\n",
        "def imprimir():\n",
        "  print(\"\\n--------------------Diccionario--------------------\")\n",
        "  print(tabulate(datos))\n",
        "  print(\"\\n\")\n",
        "\n",
        "def menu():\n",
        "  while(True):\n",
        "    \n",
        "    print(\"----------Menu----------\")\n",
        "    print(\"1. Crear diccionario\")\n",
        "    print(\"2. Imprimir diccionario\")\n",
        "    print(\"0. Salir\")\n",
        "\n",
        "    try:\n",
        "      op = int(input(\"Escoge una opcion: \"))\n",
        "\n",
        "    except:\n",
        "      print(\"\\nIntroduce otro valor\\n\")\n",
        "\n",
        "    else:\n",
        "      if op == 1:\n",
        "        informacion()\n",
        "        print(\"\\nSe genero el diccionario\\n\")\n",
        "\n",
        "      if op == 2:\n",
        "        imprimir()\n",
        "\n",
        "      if op == 0:\n",
        "        break\n",
        "      \n",
        "      if op >= 3 or op < 0:\n",
        "        print(\"\\nIntroduce otro valor\\n\")\n",
        "\n",
        "menu()"
      ],
      "metadata": {
        "id": "FDvfQVanO06P"
      },
      "execution_count": null,
      "outputs": []
    }
  ],
  "metadata": {
    "colab": {
      "name": "Te damos la bienvenida a Colaboratory",
      "provenance": [],
      "include_colab_link": true
    },
    "kernelspec": {
      "display_name": "Python 3",
      "name": "python3"
    }
  },
  "nbformat": 4,
  "nbformat_minor": 0
}